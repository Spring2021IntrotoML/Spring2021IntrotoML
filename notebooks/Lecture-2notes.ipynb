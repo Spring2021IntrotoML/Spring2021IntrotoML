{
  "nbformat": 4,
  "nbformat_minor": 0,
  "metadata": {
    "colab": {
      "name": "IntrotoML-Lecture-2.ipynb",
      "provenance": [],
      "collapsed_sections": []
    },
    "kernelspec": {
      "name": "python3",
      "display_name": "Python 3"
    }
  },
  "cells": [
    {
      "cell_type": "code",
      "metadata": {
        "colab": {
          "base_uri": "https://localhost:8080/"
        },
        "id": "D0qC5oHBqer7",
        "outputId": "2ec52e8c-3eb0-4b9d-f15c-2ce8269ab3a3"
      },
      "source": [
        "print(\"Hello world\")"
      ],
      "execution_count": null,
      "outputs": [
        {
          "output_type": "stream",
          "text": [
            "Hello world\n"
          ],
          "name": "stdout"
        }
      ]
    },
    {
      "cell_type": "code",
      "metadata": {
        "colab": {
          "base_uri": "https://localhost:8080/"
        },
        "id": "Qw7gVxmjDVac",
        "outputId": "67d20092-583f-4008-f3b5-57db1f090ad2"
      },
      "source": [
        "a=10\r\n",
        "print(a)\r\n",
        "str1 = \"My string\"\r\n",
        "print(str1)"
      ],
      "execution_count": null,
      "outputs": [
        {
          "output_type": "stream",
          "text": [
            "10\n",
            "My string\n"
          ],
          "name": "stdout"
        }
      ]
    },
    {
      "cell_type": "code",
      "metadata": {
        "colab": {
          "base_uri": "https://localhost:8080/"
        },
        "id": "RFL6lH3xDfm6",
        "outputId": "9dfe02c8-d09f-4f63-ec39-b571b304b1e8"
      },
      "source": [
        "a=10.0\r\n",
        "print(a)"
      ],
      "execution_count": null,
      "outputs": [
        {
          "output_type": "stream",
          "text": [
            "10.0\n"
          ],
          "name": "stdout"
        }
      ]
    },
    {
      "cell_type": "code",
      "metadata": {
        "colab": {
          "base_uri": "https://localhost:8080/"
        },
        "id": "KX7giVoutVfI",
        "outputId": "02f2dbf8-c474-4412-d0ec-5229938267f8"
      },
      "source": [
        "#Lists\r\n",
        "\r\n",
        "l1=[]\r\n",
        "l1.append(1)\r\n",
        "print(l1)\r\n",
        "l1.append(2)\r\n",
        "print(l1)\r\n",
        "l1.append(3)\r\n",
        "print(l1)\r\n",
        "l1.append(4.5)\r\n",
        "l1.append(5.1)\r\n",
        "print(l1)\r\n",
        "l1.append(\"Its fine\")\r\n",
        "print(l1)\r\n"
      ],
      "execution_count": null,
      "outputs": [
        {
          "output_type": "stream",
          "text": [
            "[1]\n",
            "[1, 2]\n",
            "[1, 2, 3]\n",
            "[1, 2, 3, 4.5, 5.1]\n",
            "[1, 2, 3, 4.5, 5.1, 'Its fine']\n"
          ],
          "name": "stdout"
        }
      ]
    },
    {
      "cell_type": "code",
      "metadata": {
        "colab": {
          "base_uri": "https://localhost:8080/"
        },
        "id": "F4g843letVl-",
        "outputId": "6c268b13-f0f4-4a99-8edf-8e7d587d59bc"
      },
      "source": [
        "l1.insert(4,78)\r\n",
        "print(l1)\r\n",
        "l1.insert(100,100)\r\n",
        "print(l1)"
      ],
      "execution_count": null,
      "outputs": [
        {
          "output_type": "stream",
          "text": [
            "[1, 2, 3, 4.5, 78, 78, 5.1, 'Its fine']\n",
            "[1, 2, 3, 4.5, 78, 78, 5.1, 'Its fine', 100]\n"
          ],
          "name": "stdout"
        }
      ]
    },
    {
      "cell_type": "code",
      "metadata": {
        "colab": {
          "base_uri": "https://localhost:8080/"
        },
        "id": "jvBGk2pTtV0M",
        "outputId": "86b25caf-ac7f-4309-cee7-0d64715c8d97"
      },
      "source": [
        "d1={}\r\n",
        "print(d1)"
      ],
      "execution_count": null,
      "outputs": [
        {
          "output_type": "stream",
          "text": [
            "{}\n"
          ],
          "name": "stdout"
        }
      ]
    },
    {
      "cell_type": "code",
      "metadata": {
        "colab": {
          "base_uri": "https://localhost:8080/"
        },
        "id": "5cflhj_21Uyg",
        "outputId": "e80e5110-1ff5-4855-bc52-957366e0dbd0"
      },
      "source": [
        "d1={1:'a', 2:'b', 3:'c'}\r\n",
        "print(d1)\r\n"
      ],
      "execution_count": null,
      "outputs": [
        {
          "output_type": "stream",
          "text": [
            "{1: 'a', 2: 'b', 3: 'c'}\n"
          ],
          "name": "stdout"
        }
      ]
    },
    {
      "cell_type": "code",
      "metadata": {
        "colab": {
          "base_uri": "https://localhost:8080/"
        },
        "id": "EdmDnApl1U1f",
        "outputId": "708e472a-d319-41c6-c24f-1f3f888336ed"
      },
      "source": [
        "d1={1:'a', 2:2}\r\n",
        "print(d1)"
      ],
      "execution_count": null,
      "outputs": [
        {
          "output_type": "stream",
          "text": [
            "{1: 'a', 2: 2}\n"
          ],
          "name": "stdout"
        }
      ]
    },
    {
      "cell_type": "code",
      "metadata": {
        "colab": {
          "base_uri": "https://localhost:8080/"
        },
        "id": "a-BIrUGp1U32",
        "outputId": "9414813b-4813-49c2-a30b-6662bd9465d4"
      },
      "source": [
        "d1={}\r\n",
        "d1[1]=1\r\n",
        "d1[2]=\"2\"\r\n",
        "d1[\"key\"]=1\r\n",
        "d1[\"key\"]=\"key\"\r\n",
        "d1[2]=2\r\n",
        "print(d1)"
      ],
      "execution_count": null,
      "outputs": [
        {
          "output_type": "stream",
          "text": [
            "{1: 1, 2: 2, 'key': 'key'}\n"
          ],
          "name": "stdout"
        }
      ]
    },
    {
      "cell_type": "code",
      "metadata": {
        "colab": {
          "base_uri": "https://localhost:8080/"
        },
        "id": "-XipQxIp1U7Z",
        "outputId": "f0ea8cd8-2be3-4750-b545-ab37dcc341db"
      },
      "source": [
        "t1=()\r\n",
        "print(t1)\r\n"
      ],
      "execution_count": null,
      "outputs": [
        {
          "output_type": "stream",
          "text": [
            "()\n"
          ],
          "name": "stdout"
        }
      ]
    },
    {
      "cell_type": "code",
      "metadata": {
        "colab": {
          "base_uri": "https://localhost:8080/"
        },
        "id": "twwEGVRLqsBy",
        "outputId": "b9b377b5-8a33-4c7e-a095-812f16ad1abe"
      },
      "source": [
        "t1=(1,2,3,4,5)\r\n",
        "print(t1)\r\n",
        "\r\n",
        "\r\n",
        "l1=[1,2,3,4]\r\n",
        "l1[0]=2\r\n",
        "print(l1)\r\n",
        "\r\n",
        "#t1[0]=2\r\n",
        "#print(t1)"
      ],
      "execution_count": null,
      "outputs": [
        {
          "output_type": "stream",
          "text": [
            "(1, 2, 3, 4, 5)\n",
            "[2, 2, 3, 4]\n"
          ],
          "name": "stdout"
        }
      ]
    },
    {
      "cell_type": "code",
      "metadata": {
        "colab": {
          "base_uri": "https://localhost:8080/"
        },
        "id": "K-BPeLpeLwUI",
        "outputId": "6d6ebded-0c5f-418b-e789-a24c89afb5ea"
      },
      "source": [
        "t1=(1,2,3)\r\n",
        "t2=(2,3,4)\r\n",
        "t3=t1+t2\r\n",
        "print(t3)"
      ],
      "execution_count": null,
      "outputs": [
        {
          "output_type": "stream",
          "text": [
            "(1, 2, 3, 2, 3, 4)\n"
          ],
          "name": "stdout"
        }
      ]
    },
    {
      "cell_type": "code",
      "metadata": {
        "colab": {
          "base_uri": "https://localhost:8080/"
        },
        "id": "cVNclH55qsNp",
        "outputId": "ef52b9f1-3d90-41d4-cbcf-8abf62ef9432"
      },
      "source": [
        "s1=set()\r\n",
        "print(s1)"
      ],
      "execution_count": null,
      "outputs": [
        {
          "output_type": "stream",
          "text": [
            "set()\n"
          ],
          "name": "stdout"
        }
      ]
    },
    {
      "cell_type": "code",
      "metadata": {
        "colab": {
          "base_uri": "https://localhost:8080/"
        },
        "id": "H5-5rt_6Mqvr",
        "outputId": "3c6ff805-e856-487b-fe77-52c390d1712e"
      },
      "source": [
        "s1=set([1,2,3,4,3,4])\r\n",
        "print(s1)"
      ],
      "execution_count": null,
      "outputs": [
        {
          "output_type": "stream",
          "text": [
            "{1, 2, 3, 4}\n"
          ],
          "name": "stdout"
        }
      ]
    },
    {
      "cell_type": "code",
      "metadata": {
        "colab": {
          "base_uri": "https://localhost:8080/"
        },
        "id": "bEy0wBBvMq7Z",
        "outputId": "ba6b8336-311f-4c4b-98cd-d47abda108b0"
      },
      "source": [
        "l1=[1,2,3,3,4]\r\n",
        "l2=set(l1)\r\n",
        "print(l2)\r\n"
      ],
      "execution_count": null,
      "outputs": [
        {
          "output_type": "stream",
          "text": [
            "{1, 2, 3, 4}\n"
          ],
          "name": "stdout"
        }
      ]
    },
    {
      "cell_type": "code",
      "metadata": {
        "colab": {
          "base_uri": "https://localhost:8080/"
        },
        "id": "stMCWbVGqsZW",
        "outputId": "8f922305-eefb-45b3-e8a2-3478075caf91"
      },
      "source": [
        "str1=\"Machine\"\r\n",
        "print(set(str1))\r\n",
        "\r\n",
        "#{\"machine\"}"
      ],
      "execution_count": null,
      "outputs": [
        {
          "output_type": "stream",
          "text": [
            "{'n', 'i', 'M', 'c', 'h', 'e', 'a'}\n"
          ],
          "name": "stdout"
        }
      ]
    },
    {
      "cell_type": "code",
      "metadata": {
        "id": "ovy1B97HqskA"
      },
      "source": [
        ""
      ],
      "execution_count": null,
      "outputs": []
    },
    {
      "cell_type": "markdown",
      "metadata": {
        "id": "oS8c15w8qzu7"
      },
      "source": [
        "#### List exercise"
      ]
    },
    {
      "cell_type": "code",
      "metadata": {
        "colab": {
          "base_uri": "https://localhost:8080/"
        },
        "id": "mVcQyoQ6q1ka",
        "outputId": "bb28c2fe-f9b2-4c42-b5e0-68bc2d9a10ff"
      },
      "source": [
        "l1=[]\r\n",
        "l1.insert(0,10)\r\n",
        "l1.insert(1,20)\r\n",
        "l1.insert(2,30)\r\n",
        "l1.insert(3,40)\r\n",
        "l1.insert(4,50)\r\n",
        "print(l1)"
      ],
      "execution_count": null,
      "outputs": [
        {
          "output_type": "stream",
          "text": [
            "[10, 20, 30, 40, 50]\n"
          ],
          "name": "stdout"
        }
      ]
    },
    {
      "cell_type": "code",
      "metadata": {
        "colab": {
          "base_uri": "https://localhost:8080/"
        },
        "id": "IvXiiKJ0IiRS",
        "outputId": "7ec00093-02b2-4779-f061-66251084599b"
      },
      "source": [
        "l2=[1, 2, , 4, 3, 4, 3, 5]\r\n",
        "l2.remove(3)\r\n",
        "print(l2)"
      ],
      "execution_count": null,
      "outputs": [
        {
          "output_type": "stream",
          "text": [
            "[1, 2, 4, 3, 4, 3, 5]\n"
          ],
          "name": "stdout"
        }
      ]
    },
    {
      "cell_type": "code",
      "metadata": {
        "colab": {
          "base_uri": "https://localhost:8080/"
        },
        "id": "3dQnJOdKrGsx",
        "outputId": "a0ba8e44-24a5-441c-d853-db1bf000b606"
      },
      "source": [
        "l1.pop(3)\r\n",
        "print(l1)"
      ],
      "execution_count": null,
      "outputs": [
        {
          "output_type": "stream",
          "text": [
            "[10, 20, 30, 50]\n"
          ],
          "name": "stdout"
        }
      ]
    },
    {
      "cell_type": "code",
      "metadata": {
        "colab": {
          "base_uri": "https://localhost:8080/"
        },
        "id": "-lCc1KL-rTG_",
        "outputId": "01ec05de-c3a7-488a-acff-497b97025df0"
      },
      "source": [
        "l1.pop()\r\n",
        "print(l1)"
      ],
      "execution_count": null,
      "outputs": [
        {
          "output_type": "stream",
          "text": [
            "[10, 20, 30]\n"
          ],
          "name": "stdout"
        }
      ]
    },
    {
      "cell_type": "markdown",
      "metadata": {
        "id": "2Gb4hBR7rhyv"
      },
      "source": [
        "#### Dictionary exercise "
      ]
    },
    {
      "cell_type": "code",
      "metadata": {
        "colab": {
          "base_uri": "https://localhost:8080/"
        },
        "id": "CVwbkHvBreUD",
        "outputId": "762de6f0-7923-4115-80ef-2945bd84df54"
      },
      "source": [
        "d1={}\r\n",
        "d1[1]=2\r\n",
        "d1[2]=4\r\n",
        "d1[3]=6\r\n",
        "d1[4]=8\r\n",
        "d1[5]=10\r\n",
        "\r\n",
        "print(d1)"
      ],
      "execution_count": null,
      "outputs": [
        {
          "output_type": "stream",
          "text": [
            "{1: 2, 2: 4, 3: 6, 4: 8, 5: 10}\n"
          ],
          "name": "stdout"
        }
      ]
    },
    {
      "cell_type": "markdown",
      "metadata": {
        "id": "Kkpp5typr9Wj"
      },
      "source": [
        "#### Tuple exercises"
      ]
    },
    {
      "cell_type": "code",
      "metadata": {
        "colab": {
          "base_uri": "https://localhost:8080/"
        },
        "id": "K7QsAvfArxNn",
        "outputId": "dc5bf4d2-cfa1-422e-e81c-9ba30fd31d47"
      },
      "source": [
        "t1=(1,2,3,4)\r\n",
        "\r\n",
        "t2=('I', 'love', 'machine', 'learning')\r\n",
        "\r\n",
        "t3=t1+t2\r\n",
        "print(t3)"
      ],
      "execution_count": null,
      "outputs": [
        {
          "output_type": "stream",
          "text": [
            "(1, 2, 3, 4, 'I', 'love', 'machine', 'learning')\n"
          ],
          "name": "stdout"
        }
      ]
    },
    {
      "cell_type": "markdown",
      "metadata": {
        "id": "_FdKODjbsZcL"
      },
      "source": [
        "#### Set exercises"
      ]
    },
    {
      "cell_type": "code",
      "metadata": {
        "colab": {
          "base_uri": "https://localhost:8080/"
        },
        "id": "uijQ42DXsfkJ",
        "outputId": "930ad7d4-627c-4089-e8b0-92176ed0bf7d"
      },
      "source": [
        "str1=\"Learning\"\r\n",
        "\r\n",
        "s2 = set(str1)\r\n",
        "print(s2)\r\n",
        "\r\n",
        "s3 = {str1}\r\n",
        "print(s3)\r\n",
        "\r\n",
        "s4 = set([str1])\r\n",
        "print(s4)\r\n"
      ],
      "execution_count": null,
      "outputs": [
        {
          "output_type": "stream",
          "text": [
            "{'n', 'i', 'g', 'L', 'r', 'e', 'a'}\n",
            "{'Learning'}\n",
            "{'Learning'}\n"
          ],
          "name": "stdout"
        }
      ]
    },
    {
      "cell_type": "code",
      "metadata": {
        "colab": {
          "base_uri": "https://localhost:8080/"
        },
        "id": "6It8fPmuO237",
        "outputId": "dbf7f630-cc8b-4221-fbbe-eab3be702ecd"
      },
      "source": [
        "s1 = int(input(\"Provide a number: \"))\r\n",
        "print(s1)"
      ],
      "execution_count": null,
      "outputs": [
        {
          "output_type": "stream",
          "text": [
            "Provide a number: 12\n",
            "12\n"
          ],
          "name": "stdout"
        }
      ]
    },
    {
      "cell_type": "code",
      "metadata": {
        "colab": {
          "base_uri": "https://localhost:8080/"
        },
        "id": "YXQ8b_UtO3FO",
        "outputId": "deb79027-0765-48ae-d51e-d673e70715a6"
      },
      "source": [
        "s1= int(input(\"Provide number1: \"))\r\n",
        "s2 = int(input(\"Provide number2: \"))\r\n",
        "print(s1*s2)\r\n"
      ],
      "execution_count": null,
      "outputs": [
        {
          "output_type": "stream",
          "text": [
            "Provide number1: 3\n",
            "Provide number2: 3\n",
            "9\n"
          ],
          "name": "stdout"
        }
      ]
    },
    {
      "cell_type": "markdown",
      "metadata": {
        "id": "yrcmhs7gtW-C"
      },
      "source": [
        "#### Final exercise"
      ]
    },
    {
      "cell_type": "code",
      "metadata": {
        "id": "Tqm0jGO_tY-Y"
      },
      "source": [
        "#1.\r\n",
        "\r\n",
        "a=10\r\n",
        "b=10\r\n",
        "\r\n",
        "print(a*b)"
      ],
      "execution_count": null,
      "outputs": []
    },
    {
      "cell_type": "code",
      "metadata": {
        "id": "IbR0eJIlwdWS"
      },
      "source": [
        "#2. \r\n",
        "\r\n",
        "s1=\"machine\"\r\n",
        "s2=\"learning\"\r\n",
        "\r\n",
        "s3 = s1+\" \"+s2\r\n",
        "print(s3)"
      ],
      "execution_count": null,
      "outputs": []
    },
    {
      "cell_type": "code",
      "metadata": {
        "colab": {
          "base_uri": "https://localhost:8080/"
        },
        "id": "-SGcZYD0yUyn",
        "outputId": "03f72d15-69b0-4aca-c897-76a876984b33"
      },
      "source": [
        "#3. \r\n",
        "\r\n",
        "l1=[1,2,3,4,5]\r\n",
        "\r\n",
        "#Since we didn't learn about loops yet\r\n",
        "l1_len=len(l1)\r\n",
        "\r\n",
        "sum1=0\r\n",
        "sum1 = sum1+l1[0] #sum1 +=l1[0]\r\n",
        "sum1 = sum1+l1[1]\r\n",
        "sum1 = sum1+l1[2]\r\n",
        "sum1 = sum1+l1[3]\r\n",
        "sum1 = sum1+l1[4]\r\n",
        "\r\n",
        "#sum(l1)\r\n",
        "\r\n",
        "print(sum1)"
      ],
      "execution_count": null,
      "outputs": [
        {
          "output_type": "stream",
          "text": [
            "15\n"
          ],
          "name": "stdout"
        }
      ]
    },
    {
      "cell_type": "code",
      "metadata": {
        "colab": {
          "base_uri": "https://localhost:8080/"
        },
        "id": "sWb4p-VMyk5V",
        "outputId": "f2ab1fa3-ec6d-4e47-e425-f51250edaadb"
      },
      "source": [
        "#4. \r\n",
        "\r\n",
        "l1= [1, 2, 3, 4, 5, 6]\r\n",
        "\r\n",
        "#print(l1.count(6))\r\n",
        "\r\n",
        "l1.index(6)\r\n",
        "\r\n"
      ],
      "execution_count": null,
      "outputs": [
        {
          "output_type": "execute_result",
          "data": {
            "text/plain": [
              "5"
            ]
          },
          "metadata": {
            "tags": []
          },
          "execution_count": 80
        }
      ]
    },
    {
      "cell_type": "code",
      "metadata": {
        "colab": {
          "base_uri": "https://localhost:8080/"
        },
        "id": "oTHK2ilSzXbu",
        "outputId": "630efbb2-e175-4f0f-8c23-fd9abf663cef"
      },
      "source": [
        "#5. \r\n",
        "\r\n",
        "vowels={}\r\n",
        "vowels['a']=1\r\n",
        "vowels['e']=1\r\n",
        "vowels['i']=1\r\n",
        "vowels['o']=1\r\n",
        "vowels['u']=1\r\n",
        "\r\n",
        "print(vowels)"
      ],
      "execution_count": null,
      "outputs": [
        {
          "output_type": "stream",
          "text": [
            "{'a': 1, 'e': 1, 'i': 1, 'o': 1, 'u': 1}\n"
          ],
          "name": "stdout"
        }
      ]
    },
    {
      "cell_type": "code",
      "metadata": {
        "colab": {
          "base_uri": "https://localhost:8080/"
        },
        "id": "--RkdN_Mzf77",
        "outputId": "4d2fbc4e-a0d8-46ff-e925-15c520c42100"
      },
      "source": [
        "#6. \r\n",
        "s1=input(\"Provide a string\")\r\n",
        "\r\n",
        "s1=s1.replace('a', 'e')\r\n",
        "print(s1)"
      ],
      "execution_count": null,
      "outputs": [
        {
          "output_type": "stream",
          "text": [
            "Provide a stringmachine learning\n",
            "mechine leerning\n"
          ],
          "name": "stdout"
        }
      ]
    },
    {
      "cell_type": "code",
      "metadata": {
        "colab": {
          "base_uri": "https://localhost:8080/"
        },
        "id": "TSB10-2P1EpI",
        "outputId": "6fe221d6-dc41-4917-d39e-ce5ec460b7e8"
      },
      "source": [
        "#7. \r\n",
        "\r\n",
        "s1=\"Machine Learning\"\r\n",
        "\r\n",
        "print(s1.lower())\r\n",
        "print(s1)"
      ],
      "execution_count": null,
      "outputs": [
        {
          "output_type": "stream",
          "text": [
            "machine learning\n",
            "Machine Learning\n"
          ],
          "name": "stdout"
        }
      ]
    }
  ]
}