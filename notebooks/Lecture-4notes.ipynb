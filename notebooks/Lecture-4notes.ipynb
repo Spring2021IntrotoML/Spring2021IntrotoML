{
  "nbformat": 4,
  "nbformat_minor": 0,
  "metadata": {
    "colab": {
      "name": "IntrotoML-Lecture-4.ipynb",
      "provenance": [],
      "collapsed_sections": []
    },
    "kernelspec": {
      "name": "python3",
      "display_name": "Python 3"
    }
  },
  "cells": [
    {
      "cell_type": "markdown",
      "metadata": {
        "id": "IxgwqSSwVqd1"
      },
      "source": [
        "### Numpy"
      ]
    },
    {
      "cell_type": "code",
      "metadata": {
        "id": "-NRIt0oxVvSa",
        "colab": {
          "base_uri": "https://localhost:8080/"
        },
        "outputId": "d495ad3c-da7f-49c2-e9fe-87bd47eb00ef"
      },
      "source": [
        "#Initialize an array and print its type\r\n",
        "import numpy as np\r\n",
        "a = np.array([1, 2, 3, 4, 5, 6])\r\n",
        "print('A is of type:', type(a))\r\n",
        "print(a)"
      ],
      "execution_count": null,
      "outputs": [
        {
          "output_type": "stream",
          "text": [
            "A is of type: <class 'numpy.ndarray'>\n",
            "[1 2 3 4 5 6]\n"
          ],
          "name": "stdout"
        }
      ]
    },
    {
      "cell_type": "code",
      "metadata": {
        "id": "u-isPrDlV0-D",
        "colab": {
          "base_uri": "https://localhost:8080/"
        },
        "outputId": "bb61bd4e-7178-4343-d685-1ad716f92348"
      },
      "source": [
        "#multidimensional array\r\n",
        "import numpy as np\r\n",
        "a = np.array([[1, 2, 3, 4], [5, 6, 7, 8], [9, 10, 11, 12], [13, 14,\r\n",
        "15, 16]])\r\n",
        "\r\n",
        "print(a)"
      ],
      "execution_count": null,
      "outputs": [
        {
          "output_type": "stream",
          "text": [
            "[[ 1  2  3  4]\n",
            " [ 5  6  7  8]\n",
            " [ 9 10 11 12]\n",
            " [13 14 15 16]]\n"
          ],
          "name": "stdout"
        }
      ]
    },
    {
      "cell_type": "code",
      "metadata": {
        "colab": {
          "base_uri": "https://localhost:8080/"
        },
        "id": "p_NnnnmmI4oT",
        "outputId": "5d04bf4e-315b-43e2-b2d0-520cca151cbc"
      },
      "source": [
        "a[0,2]"
      ],
      "execution_count": null,
      "outputs": [
        {
          "output_type": "execute_result",
          "data": {
            "text/plain": [
              "3"
            ]
          },
          "metadata": {
            "tags": []
          },
          "execution_count": 125
        }
      ]
    },
    {
      "cell_type": "code",
      "metadata": {
        "id": "7Y1ZyzgIXcjG",
        "colab": {
          "base_uri": "https://localhost:8080/"
        },
        "outputId": "53afde55-3184-4b23-dece-4f30c0e3314f"
      },
      "source": [
        "#Different mathematical operations over a matrix\r\n",
        "import numpy as np\r\n",
        "a = np.array([1, 2, 3, 4, 5, 6])\r\n",
        "b1=10*a\r\n",
        "b2=np.multiply(10,a)\r\n",
        "print(a)\r\n",
        "print(b1)\r\n",
        "print(b2)\r\n",
        "\r\n",
        "c=np.log(a)\r\n",
        "d=np.sqrt(a)\r\n",
        "e=a**2  #This squares the value.\r\n",
        "print(c)\r\n",
        "print(d)\r\n",
        "print(e)"
      ],
      "execution_count": null,
      "outputs": [
        {
          "output_type": "stream",
          "text": [
            "[1 2 3 4 5 6]\n",
            "[10 20 30 40 50 60]\n",
            "[10 20 30 40 50 60]\n",
            "[0.         0.69314718 1.09861229 1.38629436 1.60943791 1.79175947]\n",
            "[1.         1.41421356 1.73205081 2.         2.23606798 2.44948974]\n",
            "[ 1  4  9 16 25 36]\n"
          ],
          "name": "stdout"
        }
      ]
    },
    {
      "cell_type": "code",
      "metadata": {
        "colab": {
          "base_uri": "https://localhost:8080/"
        },
        "id": "NvLkT4Q892HS",
        "outputId": "45517f76-83f0-4e6c-b0ad-53b97cd2ee6f"
      },
      "source": [
        "print(np.square(a))"
      ],
      "execution_count": null,
      "outputs": [
        {
          "output_type": "stream",
          "text": [
            "[ 1  4  9 16 25 36]\n"
          ],
          "name": "stdout"
        }
      ]
    },
    {
      "cell_type": "code",
      "metadata": {
        "id": "xTpPBIAsXjiC"
      },
      "source": [
        "#Generate random distributions\r\n",
        "a = np.random.uniform(50, 150, 10)  #Between 50-150, generate 10 variables from uniform\r\n",
        "b = np.random.standard_normal(10)   #With mean 0 and standard deviation 1 \r\n",
        "print(a)\r\n",
        "print(b)"
      ],
      "execution_count": null,
      "outputs": []
    },
    {
      "cell_type": "code",
      "metadata": {
        "colab": {
          "base_uri": "https://localhost:8080/"
        },
        "id": "VMyyh6-PX9Za",
        "outputId": "05e70905-a03b-41f5-ade8-714498f0a33a"
      },
      "source": [
        "np.random.random((2,2))"
      ],
      "execution_count": null,
      "outputs": [
        {
          "output_type": "execute_result",
          "data": {
            "text/plain": [
              "array([[0.92905868, 0.98683861],\n",
              "       [0.04030097, 0.39030082]])"
            ]
          },
          "metadata": {
            "tags": []
          },
          "execution_count": 21
        }
      ]
    },
    {
      "cell_type": "markdown",
      "metadata": {
        "id": "aJwU40_DYSqd"
      },
      "source": [
        "#### Class Exercises"
      ]
    },
    {
      "cell_type": "markdown",
      "metadata": {
        "id": "uixV9jv3eIki"
      },
      "source": [
        "####Q1. Given an array "
      ]
    },
    {
      "cell_type": "code",
      "metadata": {
        "id": "-fPb5LFbYUpE"
      },
      "source": [
        "\r\n",
        "import numpy as np\r\n",
        "\r\n",
        "arr = np.array([[-1, 2, 0, 4],\r\n",
        "                [4, -0.5, 6, 0],\r\n",
        "                [2.6, 0, 7, 8],\r\n",
        "                [3, -7, 4, 2.0]])\r\n",
        "\r\n",
        "print(arr)\r\n",
        "print(arr[:2, ::2])"
      ],
      "execution_count": null,
      "outputs": []
    },
    {
      "cell_type": "markdown",
      "metadata": {
        "id": "xzgfq__SeMBP"
      },
      "source": [
        "####Q2. Print the elements at a specific index"
      ]
    },
    {
      "cell_type": "code",
      "metadata": {
        "id": "zoHuVBdWa2NJ",
        "colab": {
          "base_uri": "https://localhost:8080/"
        },
        "outputId": "11fdf53f-b832-4f36-dd7c-b94b11e77988"
      },
      "source": [
        "import numpy as np\r\n",
        "\r\n",
        "arr = np.array([[-1, 2, 0, 4],\r\n",
        "                [4, -0.5, 6, 0],\r\n",
        "                [2.6, 0, 7, 8],\r\n",
        "                [3, -7, 4, 2.0]])\r\n",
        "\r\n",
        "print(arr[[1, 1, 0, 3], [3, 2, 1, 0]])"
      ],
      "execution_count": null,
      "outputs": [
        {
          "output_type": "stream",
          "text": [
            "[0. 6. 2. 3.]\n"
          ],
          "name": "stdout"
        }
      ]
    },
    {
      "cell_type": "markdown",
      "metadata": {
        "id": "TndWItqAeP-D"
      },
      "source": [
        "####Q3. Add any two given arrays"
      ]
    },
    {
      "cell_type": "code",
      "metadata": {
        "id": "pBR3YXcPcitt"
      },
      "source": [
        "import numpy as np\r\n",
        "\r\n",
        "a = np.array([[1, 2], [3, 4]]) \r\n",
        "b = np.array([[4, 3], [2, 1]])\r\n",
        "\r\n",
        "print(a+b)"
      ],
      "execution_count": null,
      "outputs": []
    },
    {
      "cell_type": "markdown",
      "metadata": {
        "id": "NQmNePRQeTBy"
      },
      "source": [
        "####Q4. a = np.array([4.0 9.0])"
      ]
    },
    {
      "cell_type": "code",
      "metadata": {
        "id": "w4cMDFM0cwVE",
        "colab": {
          "base_uri": "https://localhost:8080/"
        },
        "outputId": "a359613d-fae5-468d-f63f-7c7510287c49"
      },
      "source": [
        "print(type(a))"
      ],
      "execution_count": null,
      "outputs": [
        {
          "output_type": "stream",
          "text": [
            "<class 'numpy.ndarray'>\n"
          ],
          "name": "stdout"
        }
      ]
    },
    {
      "cell_type": "markdown",
      "metadata": {
        "id": "-0amyhYpeVc-"
      },
      "source": [
        "####Q5. Use the previous array and find the square root "
      ]
    },
    {
      "cell_type": "code",
      "metadata": {
        "colab": {
          "base_uri": "https://localhost:8080/"
        },
        "id": "fn3wWzVSc7DS",
        "outputId": "3c5c83ed-4077-4383-a236-82a9c33b0376"
      },
      "source": [
        "x=np.array([4.0, 9.0])\r\n",
        "print(np.sqrt(x))"
      ],
      "execution_count": null,
      "outputs": [
        {
          "output_type": "stream",
          "text": [
            "[2. 3.]\n"
          ],
          "name": "stdout"
        }
      ]
    },
    {
      "cell_type": "markdown",
      "metadata": {
        "id": "40f4G8gFeZlg"
      },
      "source": [
        "####Q6. Get unique values in a list using numpy"
      ]
    },
    {
      "cell_type": "code",
      "metadata": {
        "id": "TfbEZ2x1dJk3",
        "colab": {
          "base_uri": "https://localhost:8080/"
        },
        "outputId": "862eba03-0325-4a86-9378-dc07380d077f"
      },
      "source": [
        "import numpy as np \r\n",
        "  \r\n",
        "# function to get unique values \r\n",
        "def uniquevals(list1): \r\n",
        "    x = np.array(list1) \r\n",
        "    print(np.unique(x)) \r\n",
        "\r\n",
        "list1 = [10, 20, 10, 30, 40, 40] \r\n",
        "uniquevals(list1)\r\n",
        "\r\n",
        "#Easy way --> print(np.unique(np.array(list1)))"
      ],
      "execution_count": null,
      "outputs": [
        {
          "output_type": "stream",
          "text": [
            "[10 20 30 40]\n"
          ],
          "name": "stdout"
        }
      ]
    },
    {
      "cell_type": "markdown",
      "metadata": {
        "id": "HBlEeBMIecxL"
      },
      "source": [
        "####Q7. Multiply all the numbers in a list using numpy"
      ]
    },
    {
      "cell_type": "code",
      "metadata": {
        "id": "v_siP6ondhd7",
        "colab": {
          "base_uri": "https://localhost:8080/"
        },
        "outputId": "af7b2e65-e9b5-4fa2-9c5c-6c2fa098e81f"
      },
      "source": [
        "import numpy as np\r\n",
        "list1 = [1, 2, 3, 4]  \r\n",
        "result1 = np.prod(list1)\r\n",
        "\r\n",
        "print(result1)\r\n"
      ],
      "execution_count": null,
      "outputs": [
        {
          "output_type": "stream",
          "text": [
            "24\n"
          ],
          "name": "stdout"
        }
      ]
    },
    {
      "cell_type": "markdown",
      "metadata": {
        "id": "TWYVIflKefYQ"
      },
      "source": [
        "####Q8. Create a random numpy array of 20 rows and 2 columns"
      ]
    },
    {
      "cell_type": "code",
      "metadata": {
        "id": "xoa08sd1duf7"
      },
      "source": [
        "a=np.random((20,2))\r\n",
        "print(a)"
      ],
      "execution_count": null,
      "outputs": []
    },
    {
      "cell_type": "markdown",
      "metadata": {
        "id": "0x485aHUiDbz"
      },
      "source": [
        "###Pandas"
      ]
    },
    {
      "cell_type": "markdown",
      "metadata": {
        "id": "XjkDECPkjjfh"
      },
      "source": [
        "#### Pandas Overview \r\n",
        "\r\n",
        "- Most popular python library for data analysis\r\n",
        "- Highly optimized performance\r\n",
        "- Using: 1) Series; 2) DataFrames\r\n",
        "\r\n",
        "#### Series \r\n",
        "- One dimensional array to store any data type\r\n"
      ]
    },
    {
      "cell_type": "code",
      "metadata": {
        "colab": {
          "base_uri": "https://localhost:8080/"
        },
        "id": "EhkQjscNiG1B",
        "outputId": "9567f9c1-8179-4ede-a702-bf67013e1020"
      },
      "source": [
        "#format of creating a series\r\n",
        "import pandas as pd\r\n",
        "\r\n",
        "data=[1, 2, 3, 4]\r\n",
        "#index=range(len(data))\r\n",
        "index=['a', 'b', 'c', 'd']\r\n",
        "a = pd.Series(data, index=index)\r\n",
        "print(a)\r\n",
        "\r\n",
        "#Data can be Scalar value – integer, string; Dictionary – <key, value> pair\r\n",
        "#or an Ndarray\r\n",
        "\r\n",
        "#index by default is from 0, 1, 2, ... (n-1)\r\n",
        "#where n is the length of the data"
      ],
      "execution_count": null,
      "outputs": [
        {
          "output_type": "stream",
          "text": [
            "a    1\n",
            "b    2\n",
            "c    3\n",
            "d    4\n",
            "dtype: int64\n"
          ],
          "name": "stdout"
        }
      ]
    },
    {
      "cell_type": "code",
      "metadata": {
        "colab": {
          "base_uri": "https://localhost:8080/"
        },
        "id": "7daS1lyS_kjH",
        "outputId": "5045f3f3-f6d6-4158-8ace-9d95352db06f"
      },
      "source": [
        "print(a['c'])"
      ],
      "execution_count": null,
      "outputs": [
        {
          "output_type": "stream",
          "text": [
            "3\n"
          ],
          "name": "stdout"
        }
      ]
    },
    {
      "cell_type": "code",
      "metadata": {
        "colab": {
          "base_uri": "https://localhost:8080/"
        },
        "id": "3QBtVPEJlgSF",
        "outputId": "d3d25799-5cca-4315-e3aa-e84b05001a37"
      },
      "source": [
        "#As mentioned earlier, data can be a list of lists as well\r\n",
        "import pandas as pd\r\n",
        "\r\n",
        "index=[[1,2], [1,3], [1,4]]\r\n",
        "#1,1,1, <data value>\r\n",
        "#2,3,4, <data value>\r\n",
        "data=range(len(index[0]))\r\n",
        "a = pd.Series(data, index=index)\r\n",
        "print(a)"
      ],
      "execution_count": null,
      "outputs": [
        {
          "output_type": "stream",
          "text": [
            "1  1  1    0\n",
            "2  3  4    1\n",
            "dtype: int64\n"
          ],
          "name": "stdout"
        }
      ]
    },
    {
      "cell_type": "code",
      "metadata": {
        "colab": {
          "base_uri": "https://localhost:8080/"
        },
        "id": "bS_KJsY9drcR",
        "outputId": "8ca19bcc-de7d-4fde-aff8-91c4bce5cc42"
      },
      "source": [
        "index = [['a','b','c','e'],['a','d','c','d'],['f','b','k','d'],['s','b','c','d']]\r\n",
        "data = [1, 2, 3, 4]\r\n",
        "a= pd.Series(data, index = index)\r\n",
        "print(a)"
      ],
      "execution_count": null,
      "outputs": [
        {
          "output_type": "stream",
          "text": [
            "a  a  f  s    1\n",
            "b  d  b  b    2\n",
            "c  c  k  c    3\n",
            "e  d  d  d    4\n",
            "dtype: int64\n"
          ],
          "name": "stdout"
        }
      ]
    },
    {
      "cell_type": "code",
      "metadata": {
        "colab": {
          "base_uri": "https://localhost:8080/"
        },
        "id": "NvNaMZwflqUA",
        "outputId": "b69e8814-ecb9-4fb2-9582-7a20c292c345"
      },
      "source": [
        "#You can use the data as a dictionary\r\n",
        "#keys will become index and values will be column values\r\n",
        "#Series -- 1-D array to store any data type -- here dictionary\r\n",
        "import pandas as pd\r\n",
        "\r\n",
        "data={1:'a', 2:'b', 3:'c', 4:'d', 5:'e', 6:'f'}\r\n",
        "a = pd.Series(data)\r\n",
        "print(a)"
      ],
      "execution_count": null,
      "outputs": [
        {
          "output_type": "stream",
          "text": [
            "1    a\n",
            "2    b\n",
            "3    c\n",
            "4    d\n",
            "5    e\n",
            "6    f\n",
            "dtype: object\n"
          ],
          "name": "stdout"
        }
      ]
    },
    {
      "cell_type": "markdown",
      "metadata": {
        "id": "b6O9xAoBl8hJ"
      },
      "source": [
        "##### In the previous question, what happens if I provide the dictionary \r\n",
        "##### this way: data={1:'a', 2:'b', 3:'c', 4:'d', 4:'e', 5:'f'}"
      ]
    },
    {
      "cell_type": "code",
      "metadata": {
        "colab": {
          "base_uri": "https://localhost:8080/"
        },
        "id": "4h4m5hbymG4X",
        "outputId": "afe6e265-4fe1-4188-de55-eba59c7c0b27"
      },
      "source": [
        "import pandas as pd\r\n",
        "\r\n",
        "data={1:'a', 2:'b', 3:'c', 4:'d', 4:'e', 5:'f'}\r\n",
        "a = pd.Series(data)\r\n",
        "print(a)"
      ],
      "execution_count": null,
      "outputs": [
        {
          "output_type": "stream",
          "text": [
            "1    a\n",
            "2    b\n",
            "3    c\n",
            "4    e\n",
            "5    f\n",
            "dtype: object\n"
          ],
          "name": "stdout"
        }
      ]
    },
    {
      "cell_type": "markdown",
      "metadata": {
        "id": "hr0cn3QumR2d"
      },
      "source": [
        "#### Dataframes\r\n",
        "\r\n",
        "DataFrame is a two-dimensional data structure that consists of rows\r\n",
        "and columns"
      ]
    },
    {
      "cell_type": "code",
      "metadata": {
        "id": "NycFkt0bmJo7"
      },
      "source": [
        "import pandas as pd\r\n",
        "df = pd.DataFrame(data)\r\n",
        "\r\n",
        "#data can be One or more dictionaries; one or more series; 2D-numpy Ndarray"
      ],
      "execution_count": null,
      "outputs": []
    },
    {
      "cell_type": "markdown",
      "metadata": {
        "id": "yfAQw3X3onL7"
      },
      "source": [
        "##### Data can be one or more dictionaries"
      ]
    },
    {
      "cell_type": "code",
      "metadata": {
        "id": "vmYV-tm-m71O",
        "colab": {
          "base_uri": "https://localhost:8080/"
        },
        "outputId": "fb098f52-7c97-495a-d678-f5284e7184a3"
      },
      "source": [
        "\r\n",
        "import numpy as np\r\n",
        "diction1 ={'a':1, 'b':2, 'c':3, 'd':4}\r\n",
        "diction2 ={'a':5, 'b':6, 'c':7, 'd':8}\r\n",
        "data = {'first':diction1, 'second':diction2}\r\n",
        "df = pd.DataFrame(data)\r\n",
        "print(df)"
      ],
      "execution_count": null,
      "outputs": [
        {
          "output_type": "stream",
          "text": [
            "   first  second\n",
            "a      1       5\n",
            "b      2       6\n",
            "c      3       7\n",
            "d      4       8\n"
          ],
          "name": "stdout"
        }
      ]
    },
    {
      "cell_type": "code",
      "metadata": {
        "id": "d5Pf7REqWZx7"
      },
      "source": [
        "low=df.index[df['second'] < 7].tolist()\r\n",
        "high=df.index[df['second'] >= 7].tolist()\r\n",
        "df.loc[low,'second']='low'\r\n",
        "df.loc[high,'second']='high'\r\n"
      ],
      "execution_count": null,
      "outputs": []
    },
    {
      "cell_type": "code",
      "metadata": {
        "id": "QqA9PcJfYi11",
        "colab": {
          "base_uri": "https://localhost:8080/"
        },
        "outputId": "265c6d6a-d075-486c-933a-31f82d840ca7"
      },
      "source": [
        "print(df)"
      ],
      "execution_count": null,
      "outputs": [
        {
          "output_type": "stream",
          "text": [
            "   first second\n",
            "a      1    low\n",
            "b      2    low\n",
            "c      3   high\n",
            "d      4   high\n"
          ],
          "name": "stdout"
        }
      ]
    },
    {
      "cell_type": "markdown",
      "metadata": {
        "id": "DAizZpDzokRf"
      },
      "source": [
        "##### Data can be one or more series"
      ]
    },
    {
      "cell_type": "code",
      "metadata": {
        "id": "4Cc34np8nB3k",
        "colab": {
          "base_uri": "https://localhost:8080/"
        },
        "outputId": "7f38743b-5dfd-47bb-9a20-a8a394918249"
      },
      "source": [
        "s1 = pd.Series([1, 3, 5, 7, 9, 11, 13])\r\n",
        "s2 = pd.Series([1.1, 2.2, 3.3, 4.4, 5.5, 6.6, 7.7, 8.8])\r\n",
        "s3 = pd.Series(['a', 'b', 'c', 'd', 'e', 'f', 'g', 'h', 'i'])\r\n",
        "\r\n",
        "data ={'first':s1, 'second':s2, 'third':s3}\r\n",
        "df = pd.DataFrame(data)\r\n",
        "print(df)"
      ],
      "execution_count": null,
      "outputs": [
        {
          "output_type": "stream",
          "text": [
            "   first  second third\n",
            "0    1.0     1.1     a\n",
            "1    3.0     2.2     b\n",
            "2    5.0     3.3     c\n",
            "3    7.0     4.4     d\n",
            "4    9.0     5.5     e\n",
            "5   11.0     6.6     f\n",
            "6   13.0     7.7     g\n",
            "7    NaN     8.8     h\n",
            "8    NaN     NaN     i\n"
          ],
          "name": "stdout"
        }
      ]
    },
    {
      "cell_type": "code",
      "metadata": {
        "colab": {
          "base_uri": "https://localhost:8080/"
        },
        "id": "-N91XhrLGc1H",
        "outputId": "cc2784cc-c0d3-41b8-f595-be9e87a3d454"
      },
      "source": [
        "l7=[2,4,6,8]\r\n",
        "l71=list(l7)\r\n",
        "l71.append(l7[0])\r\n",
        "l72=list(l71)\r\n",
        "l72.append(sum(l71)/len(l71))\r\n",
        "\r\n",
        "data = {'first':pd.Series(l7), 'second':pd.Series(l71), 'third':pd.Series(l72)}\r\n",
        "df = pd.DataFrame(data)\r\n",
        "print(df)\r\n",
        "print(list(df['second'])[:5]==[2.0,4.0,6.0,8.0,2.0])"
      ],
      "execution_count": null,
      "outputs": [
        {
          "output_type": "stream",
          "text": [
            "   first  second  third\n",
            "0    2.0     2.0    2.0\n",
            "1    4.0     4.0    4.0\n",
            "2    6.0     6.0    6.0\n",
            "3    8.0     8.0    8.0\n",
            "4    NaN     2.0    2.0\n",
            "5    NaN     NaN    4.4\n",
            "True\n"
          ],
          "name": "stdout"
        }
      ]
    },
    {
      "cell_type": "markdown",
      "metadata": {
        "id": "CL8q1SjeotWL"
      },
      "source": [
        "##### Data can be a 2D numpy array"
      ]
    },
    {
      "cell_type": "code",
      "metadata": {
        "id": "mJR25RofoBPZ",
        "colab": {
          "base_uri": "https://localhost:8080/"
        },
        "outputId": "fabc41a2-1c53-4e03-e4db-dd60b1f2f06c"
      },
      "source": [
        "import numpy as np\r\n",
        "import pandas as pd\r\n",
        "data = np.array([[1, 2], [3, 4]])\r\n",
        "df = pd.DataFrame(data)\r\n",
        "print(df)"
      ],
      "execution_count": null,
      "outputs": [
        {
          "output_type": "stream",
          "text": [
            "   0  1\n",
            "0  1  2\n",
            "1  3  4\n"
          ],
          "name": "stdout"
        }
      ]
    },
    {
      "cell_type": "code",
      "metadata": {
        "id": "Tds-l7SkoxS4"
      },
      "source": [
        "import numpy as np\r\n",
        "import pandas as pd\r\n",
        "data = np.array([[1, 2], [3, 4]])\r\n",
        "df = pd.DataFrame({'col1':data[:,0], 'col2':data[:,1]})\r\n",
        "print(df)"
      ],
      "execution_count": null,
      "outputs": []
    },
    {
      "cell_type": "markdown",
      "metadata": {
        "id": "txLs65xMpSbd"
      },
      "source": [
        "##### Now create a small dataframe with 2 columns"
      ]
    },
    {
      "cell_type": "code",
      "metadata": {
        "id": "TjELp_jammEZ",
        "colab": {
          "base_uri": "https://localhost:8080/"
        },
        "outputId": "30d45491-0cc3-48fd-c789-a9bfadb8bdea"
      },
      "source": [
        "import pandas as pd\r\n",
        "data={'Name': ['John', 'William', 'Ian', 'Noah'], 'Age':[12, 15, 13, 12]}\r\n",
        "df = pd.DataFrame(data)\r\n",
        "print(df)"
      ],
      "execution_count": null,
      "outputs": [
        {
          "output_type": "stream",
          "text": [
            "      Name  Age\n",
            "0     John   12\n",
            "1  William   15\n",
            "2      Ian   13\n",
            "3     Noah   12\n"
          ],
          "name": "stdout"
        }
      ]
    },
    {
      "cell_type": "markdown",
      "metadata": {
        "id": "9wMbGsT0pdeu"
      },
      "source": [
        "#### Read a .csv file and load it in a dataframe\r\n",
        "\r\n",
        "\r\n"
      ]
    },
    {
      "cell_type": "code",
      "metadata": {
        "id": "XszKdHaDqg33",
        "colab": {
          "resources": {
            "http://localhost:8080/nbextensions/google.colab/files.js": {
              "data": "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",
              "ok": true,
              "headers": [
                [
                  "content-type",
                  "application/javascript"
                ]
              ],
              "status": 200,
              "status_text": ""
            }
          },
          "base_uri": "https://localhost:8080/",
          "height": 73
        },
        "outputId": "71abb5b8-dd76-491e-de04-92ec0a983ebd"
      },
      "source": [
        "#Upload a file to the notebook \r\n",
        "from google.colab import files\r\n",
        "uploaded = files.upload()"
      ],
      "execution_count": null,
      "outputs": [
        {
          "output_type": "display_data",
          "data": {
            "text/html": [
              "\n",
              "     <input type=\"file\" id=\"files-8b3c181a-9e69-46fb-a82f-1deaefd63aa9\" name=\"files[]\" multiple disabled\n",
              "        style=\"border:none\" />\n",
              "     <output id=\"result-8b3c181a-9e69-46fb-a82f-1deaefd63aa9\">\n",
              "      Upload widget is only available when the cell has been executed in the\n",
              "      current browser session. Please rerun this cell to enable.\n",
              "      </output>\n",
              "      <script src=\"/nbextensions/google.colab/files.js\"></script> "
            ],
            "text/plain": [
              "<IPython.core.display.HTML object>"
            ]
          },
          "metadata": {
            "tags": []
          }
        },
        {
          "output_type": "stream",
          "text": [
            "Saving nba.csv to nba (1).csv\n"
          ],
          "name": "stdout"
        }
      ]
    },
    {
      "cell_type": "code",
      "metadata": {
        "id": "aWFMUDN9q4y0",
        "colab": {
          "base_uri": "https://localhost:8080/"
        },
        "outputId": "db06ea9a-fa0e-489b-c6e7-6a61c03cb497"
      },
      "source": [
        "# Read the basketball dataset\r\n",
        "import pandas as pd\r\n",
        "nbadf = pd.read_csv(\"nba.csv\", index_col=\"Name\")\r\n",
        "first=nbadf['Age']\r\n",
        "print(first)"
      ],
      "execution_count": null,
      "outputs": [
        {
          "output_type": "stream",
          "text": [
            "Name\n",
            "Avery Bradley    25.0\n",
            "Jae Crowder      25.0\n",
            "John Holland     27.0\n",
            "R.J. Hunter      22.0\n",
            "Jonas Jerebko    29.0\n",
            "                 ... \n",
            "Shelvin Mack     26.0\n",
            "Raul Neto        24.0\n",
            "Tibor Pleiss     26.0\n",
            "Jeff Withey      26.0\n",
            "NaN               NaN\n",
            "Name: Age, Length: 458, dtype: float64\n"
          ],
          "name": "stdout"
        }
      ]
    },
    {
      "cell_type": "code",
      "metadata": {
        "id": "QnIofZLvrXjI",
        "colab": {
          "base_uri": "https://localhost:8080/"
        },
        "outputId": "b5089b45-694b-4342-84ba-1011b7d3ec67"
      },
      "source": [
        "#Now print the info of the dataframe\r\n",
        "nbadf.info()"
      ],
      "execution_count": null,
      "outputs": [
        {
          "output_type": "stream",
          "text": [
            "<class 'pandas.core.frame.DataFrame'>\n",
            "Index: 458 entries, Avery Bradley to nan\n",
            "Data columns (total 8 columns):\n",
            " #   Column    Non-Null Count  Dtype  \n",
            "---  ------    --------------  -----  \n",
            " 0   Team      457 non-null    object \n",
            " 1   Number    457 non-null    float64\n",
            " 2   Position  457 non-null    object \n",
            " 3   Age       457 non-null    float64\n",
            " 4   Height    457 non-null    object \n",
            " 5   Weight    457 non-null    float64\n",
            " 6   College   373 non-null    object \n",
            " 7   Salary    446 non-null    float64\n",
            "dtypes: float64(4), object(4)\n",
            "memory usage: 32.2+ KB\n"
          ],
          "name": "stdout"
        }
      ]
    },
    {
      "cell_type": "markdown",
      "metadata": {
        "id": "_AFzixdXrqCk"
      },
      "source": [
        "#### I want to access basic statistics about this dataset"
      ]
    },
    {
      "cell_type": "code",
      "metadata": {
        "id": "VVwJiT7Vrs5h",
        "colab": {
          "base_uri": "https://localhost:8080/",
          "height": 386
        },
        "outputId": "77217968-b08e-4ffa-8c7f-ea9957ebe893"
      },
      "source": [
        "import numpy as np\r\n",
        "nbadf.describe(include='all')"
      ],
      "execution_count": null,
      "outputs": [
        {
          "output_type": "execute_result",
          "data": {
            "text/html": [
              "<div>\n",
              "<style scoped>\n",
              "    .dataframe tbody tr th:only-of-type {\n",
              "        vertical-align: middle;\n",
              "    }\n",
              "\n",
              "    .dataframe tbody tr th {\n",
              "        vertical-align: top;\n",
              "    }\n",
              "\n",
              "    .dataframe thead th {\n",
              "        text-align: right;\n",
              "    }\n",
              "</style>\n",
              "<table border=\"1\" class=\"dataframe\">\n",
              "  <thead>\n",
              "    <tr style=\"text-align: right;\">\n",
              "      <th></th>\n",
              "      <th>Team</th>\n",
              "      <th>Number</th>\n",
              "      <th>Position</th>\n",
              "      <th>Age</th>\n",
              "      <th>Height</th>\n",
              "      <th>Weight</th>\n",
              "      <th>College</th>\n",
              "      <th>Salary</th>\n",
              "    </tr>\n",
              "  </thead>\n",
              "  <tbody>\n",
              "    <tr>\n",
              "      <th>count</th>\n",
              "      <td>457</td>\n",
              "      <td>457.000000</td>\n",
              "      <td>457</td>\n",
              "      <td>457.000000</td>\n",
              "      <td>457</td>\n",
              "      <td>457.000000</td>\n",
              "      <td>373</td>\n",
              "      <td>4.460000e+02</td>\n",
              "    </tr>\n",
              "    <tr>\n",
              "      <th>unique</th>\n",
              "      <td>30</td>\n",
              "      <td>NaN</td>\n",
              "      <td>5</td>\n",
              "      <td>NaN</td>\n",
              "      <td>18</td>\n",
              "      <td>NaN</td>\n",
              "      <td>118</td>\n",
              "      <td>NaN</td>\n",
              "    </tr>\n",
              "    <tr>\n",
              "      <th>top</th>\n",
              "      <td>New Orleans Pelicans</td>\n",
              "      <td>NaN</td>\n",
              "      <td>SG</td>\n",
              "      <td>NaN</td>\n",
              "      <td>6-9</td>\n",
              "      <td>NaN</td>\n",
              "      <td>Kentucky</td>\n",
              "      <td>NaN</td>\n",
              "    </tr>\n",
              "    <tr>\n",
              "      <th>freq</th>\n",
              "      <td>19</td>\n",
              "      <td>NaN</td>\n",
              "      <td>102</td>\n",
              "      <td>NaN</td>\n",
              "      <td>59</td>\n",
              "      <td>NaN</td>\n",
              "      <td>22</td>\n",
              "      <td>NaN</td>\n",
              "    </tr>\n",
              "    <tr>\n",
              "      <th>mean</th>\n",
              "      <td>NaN</td>\n",
              "      <td>17.678337</td>\n",
              "      <td>NaN</td>\n",
              "      <td>26.938731</td>\n",
              "      <td>NaN</td>\n",
              "      <td>221.522976</td>\n",
              "      <td>NaN</td>\n",
              "      <td>4.842684e+06</td>\n",
              "    </tr>\n",
              "    <tr>\n",
              "      <th>std</th>\n",
              "      <td>NaN</td>\n",
              "      <td>15.966090</td>\n",
              "      <td>NaN</td>\n",
              "      <td>4.404016</td>\n",
              "      <td>NaN</td>\n",
              "      <td>26.368343</td>\n",
              "      <td>NaN</td>\n",
              "      <td>5.229238e+06</td>\n",
              "    </tr>\n",
              "    <tr>\n",
              "      <th>min</th>\n",
              "      <td>NaN</td>\n",
              "      <td>0.000000</td>\n",
              "      <td>NaN</td>\n",
              "      <td>19.000000</td>\n",
              "      <td>NaN</td>\n",
              "      <td>161.000000</td>\n",
              "      <td>NaN</td>\n",
              "      <td>3.088800e+04</td>\n",
              "    </tr>\n",
              "    <tr>\n",
              "      <th>25%</th>\n",
              "      <td>NaN</td>\n",
              "      <td>5.000000</td>\n",
              "      <td>NaN</td>\n",
              "      <td>24.000000</td>\n",
              "      <td>NaN</td>\n",
              "      <td>200.000000</td>\n",
              "      <td>NaN</td>\n",
              "      <td>1.044792e+06</td>\n",
              "    </tr>\n",
              "    <tr>\n",
              "      <th>50%</th>\n",
              "      <td>NaN</td>\n",
              "      <td>13.000000</td>\n",
              "      <td>NaN</td>\n",
              "      <td>26.000000</td>\n",
              "      <td>NaN</td>\n",
              "      <td>220.000000</td>\n",
              "      <td>NaN</td>\n",
              "      <td>2.839073e+06</td>\n",
              "    </tr>\n",
              "    <tr>\n",
              "      <th>75%</th>\n",
              "      <td>NaN</td>\n",
              "      <td>25.000000</td>\n",
              "      <td>NaN</td>\n",
              "      <td>30.000000</td>\n",
              "      <td>NaN</td>\n",
              "      <td>240.000000</td>\n",
              "      <td>NaN</td>\n",
              "      <td>6.500000e+06</td>\n",
              "    </tr>\n",
              "    <tr>\n",
              "      <th>max</th>\n",
              "      <td>NaN</td>\n",
              "      <td>99.000000</td>\n",
              "      <td>NaN</td>\n",
              "      <td>40.000000</td>\n",
              "      <td>NaN</td>\n",
              "      <td>307.000000</td>\n",
              "      <td>NaN</td>\n",
              "      <td>2.500000e+07</td>\n",
              "    </tr>\n",
              "  </tbody>\n",
              "</table>\n",
              "</div>"
            ],
            "text/plain": [
              "                        Team      Number  ...   College        Salary\n",
              "count                    457  457.000000  ...       373  4.460000e+02\n",
              "unique                    30         NaN  ...       118           NaN\n",
              "top     New Orleans Pelicans         NaN  ...  Kentucky           NaN\n",
              "freq                      19         NaN  ...        22           NaN\n",
              "mean                     NaN   17.678337  ...       NaN  4.842684e+06\n",
              "std                      NaN   15.966090  ...       NaN  5.229238e+06\n",
              "min                      NaN    0.000000  ...       NaN  3.088800e+04\n",
              "25%                      NaN    5.000000  ...       NaN  1.044792e+06\n",
              "50%                      NaN   13.000000  ...       NaN  2.839073e+06\n",
              "75%                      NaN   25.000000  ...       NaN  6.500000e+06\n",
              "max                      NaN   99.000000  ...       NaN  2.500000e+07\n",
              "\n",
              "[11 rows x 8 columns]"
            ]
          },
          "metadata": {
            "tags": []
          },
          "execution_count": 152
        }
      ]
    },
    {
      "cell_type": "code",
      "metadata": {
        "id": "6zBExWbnr7yN"
      },
      "source": [
        "#describe function doesnt provide summary stats on np.objects\r\n",
        "import numpy as np\r\n",
        "nbadf.describe(include=np.object)"
      ],
      "execution_count": null,
      "outputs": []
    },
    {
      "cell_type": "code",
      "metadata": {
        "id": "p21AsYyJs9DA"
      },
      "source": [
        "#I want to see all the columns described\r\n",
        "import numpy as np\r\n",
        "nbadf.describe(include='all')"
      ],
      "execution_count": null,
      "outputs": []
    },
    {
      "cell_type": "markdown",
      "metadata": {
        "id": "-mW2cejfqnKw"
      },
      "source": [
        "#### Accessing the elements in a dataframe\r\n"
      ]
    },
    {
      "cell_type": "code",
      "metadata": {
        "id": "Ltb5PPuUqqeQ",
        "colab": {
          "base_uri": "https://localhost:8080/"
        },
        "outputId": "9963051c-5318-4391-ca86-72101507a22d"
      },
      "source": [
        "#Create a dataframe and print only two columns -- name and address\r\n",
        "import pandas as pd\r\n",
        "\r\n",
        "data={'Name':['John', 'Jim', 'Ashley', 'Aimee', 'Jeff'],'Age':[24, 25, 22, 23, 27], 'Address': ['New York', 'Arizona','Minnesota', 'California', 'New York'], 'Qualification': ['MS', 'BS', 'BS', 'MS', 'PhD']}\r\n",
        "df = pd.DataFrame(data)\r\n",
        "print(df)\r\n",
        "print(list(df['Name'])==['John', 'Jim', 'Ashley', 'Aimee', 'Jeff'])\r\n",
        "print(df['Address'])"
      ],
      "execution_count": null,
      "outputs": [
        {
          "output_type": "stream",
          "text": [
            "     Name  Age     Address Qualification\n",
            "0    John   24    New York            MS\n",
            "1     Jim   25     Arizona            BS\n",
            "2  Ashley   22   Minnesota            BS\n",
            "3   Aimee   23  California            MS\n",
            "4    Jeff   27    New York           PhD\n",
            "True\n",
            "0      New York\n",
            "1       Arizona\n",
            "2     Minnesota\n",
            "3    California\n",
            "4      New York\n",
            "Name: Address, dtype: object\n"
          ],
          "name": "stdout"
        }
      ]
    },
    {
      "cell_type": "code",
      "metadata": {
        "id": "y070XioTtaey",
        "colab": {
          "base_uri": "https://localhost:8080/"
        },
        "outputId": "2f44710a-7dbe-4966-ec33-a1c13c7fc3ed"
      },
      "source": [
        "# for the nba dataset how do we access specific rows and columns\r\n",
        "#access rows using the index \r\n",
        "first = nbadf.loc[\"Avery Bradley\"]\r\n",
        "second = nbadf.loc[\"R.J. Hunter\"]\r\n",
        "print(first)\r\n",
        "print(second)"
      ],
      "execution_count": null,
      "outputs": [
        {
          "output_type": "stream",
          "text": [
            "Team        Boston Celtics\n",
            "Number                   0\n",
            "Position                PG\n",
            "Age                     25\n",
            "Height                 6-2\n",
            "Weight                 180\n",
            "College              Texas\n",
            "Salary         7.73034e+06\n",
            "Name: Avery Bradley, dtype: object\n",
            "Team        Boston Celtics\n",
            "Number                  28\n",
            "Position                SG\n",
            "Age                     22\n",
            "Height                 6-5\n",
            "Weight                 185\n",
            "College      Georgia State\n",
            "Salary         1.14864e+06\n",
            "Name: R.J. Hunter, dtype: object\n"
          ],
          "name": "stdout"
        }
      ]
    },
    {
      "cell_type": "code",
      "metadata": {
        "id": "OX1nEfy0tmTV",
        "colab": {
          "base_uri": "https://localhost:8080/"
        },
        "outputId": "9eedf5aa-1532-4479-f345-3772e55e0c26"
      },
      "source": [
        "#How about accessing rows with their ids\r\n",
        "arow = nbadf.iloc[23]\r\n",
        "print(arow)"
      ],
      "execution_count": null,
      "outputs": [
        {
          "output_type": "stream",
          "text": [
            "Team        Brooklyn Nets\n",
            "Number                 11\n",
            "Position                C\n",
            "Age                    28\n",
            "Height                7-0\n",
            "Weight                275\n",
            "College          Stanford\n",
            "Salary         1.9689e+07\n",
            "Name: Brook Lopez, dtype: object\n"
          ],
          "name": "stdout"
        }
      ]
    },
    {
      "cell_type": "code",
      "metadata": {
        "id": "8wtge_vutzi8",
        "colab": {
          "base_uri": "https://localhost:8080/"
        },
        "outputId": "918761eb-4a62-48ee-c89d-08e013bf7de1"
      },
      "source": [
        "#Count the number of rows\r\n",
        "nbadf['Team'].count()"
      ],
      "execution_count": null,
      "outputs": [
        {
          "output_type": "execute_result",
          "data": {
            "text/plain": [
              "457"
            ]
          },
          "metadata": {
            "tags": []
          },
          "execution_count": 156
        }
      ]
    },
    {
      "cell_type": "code",
      "metadata": {
        "id": "vjafFE9kt-De",
        "colab": {
          "base_uri": "https://localhost:8080/"
        },
        "outputId": "e5238690-25b2-4004-9363-40a3b1c35be5"
      },
      "source": [
        "#I want to count how many unique values occur in a column, here it is \r\n",
        "#\"team column\"\r\n",
        "nbadf['Team'].value_counts()"
      ],
      "execution_count": null,
      "outputs": [
        {
          "output_type": "execute_result",
          "data": {
            "text/plain": [
              "New Orleans Pelicans      19\n",
              "Memphis Grizzlies         18\n",
              "New York Knicks           16\n",
              "Milwaukee Bucks           16\n",
              "Atlanta Hawks             15\n",
              "Brooklyn Nets             15\n",
              "Dallas Mavericks          15\n",
              "Washington Wizards        15\n",
              "Golden State Warriors     15\n",
              "Philadelphia 76ers        15\n",
              "Los Angeles Lakers        15\n",
              "Sacramento Kings          15\n",
              "Los Angeles Clippers      15\n",
              "Chicago Bulls             15\n",
              "Phoenix Suns              15\n",
              "Toronto Raptors           15\n",
              "Charlotte Hornets         15\n",
              "Denver Nuggets            15\n",
              "Cleveland Cavaliers       15\n",
              "Portland Trail Blazers    15\n",
              "Utah Jazz                 15\n",
              "Houston Rockets           15\n",
              "Boston Celtics            15\n",
              "Oklahoma City Thunder     15\n",
              "San Antonio Spurs         15\n",
              "Miami Heat                15\n",
              "Indiana Pacers            15\n",
              "Detroit Pistons           15\n",
              "Minnesota Timberwolves    14\n",
              "Orlando Magic             14\n",
              "Name: Team, dtype: int64"
            ]
          },
          "metadata": {
            "tags": []
          },
          "execution_count": 157
        }
      ]
    },
    {
      "cell_type": "code",
      "metadata": {
        "id": "tTUOKmzDuNje",
        "colab": {
          "base_uri": "https://localhost:8080/"
        },
        "outputId": "3fdaa7d0-c3c4-4753-b127-5d1ab5be37ba"
      },
      "source": [
        "#What is the maximum age of players\r\n",
        "nbadf['Age'].describe()"
      ],
      "execution_count": null,
      "outputs": [
        {
          "output_type": "execute_result",
          "data": {
            "text/plain": [
              "count    457.000000\n",
              "mean      26.938731\n",
              "std        4.404016\n",
              "min       19.000000\n",
              "25%       24.000000\n",
              "50%       26.000000\n",
              "75%       30.000000\n",
              "max       40.000000\n",
              "Name: Age, dtype: float64"
            ]
          },
          "metadata": {
            "tags": []
          },
          "execution_count": 159
        }
      ]
    },
    {
      "cell_type": "code",
      "metadata": {
        "id": "zQ1Ej0AKuzFA",
        "colab": {
          "base_uri": "https://localhost:8080/"
        },
        "outputId": "66df2d93-d6f9-4299-dc56-673632fafbb5"
      },
      "source": [
        "#what is the maximum age of players in Los Angeles Lakers\r\n",
        "#nbadf.loc[nbadf['Team']=='Los Angeles Lakers']['Age']\r\n",
        "\r\n",
        "#What if I just want to describe this list of all players ages\r\n",
        "nbadf.loc[nbadf['Team']=='Los Angeles Lakers']['Age'].describe()"
      ],
      "execution_count": null,
      "outputs": [
        {
          "output_type": "execute_result",
          "data": {
            "text/plain": [
              "count    15.000000\n",
              "mean     27.533333\n",
              "std       5.289702\n",
              "min      20.000000\n",
              "25%      23.500000\n",
              "50%      27.000000\n",
              "75%      31.000000\n",
              "max      37.000000\n",
              "Name: Age, dtype: float64"
            ]
          },
          "metadata": {
            "tags": []
          },
          "execution_count": 162
        }
      ]
    },
    {
      "cell_type": "markdown",
      "metadata": {
        "id": "UypyIE7zv5AD"
      },
      "source": [
        "##### Can I find the age of all players in another way -- yes you can"
      ]
    },
    {
      "cell_type": "code",
      "metadata": {
        "id": "q_jZXqOdvmZL",
        "colab": {
          "base_uri": "https://localhost:8080/"
        },
        "outputId": "176751a1-1397-4925-8fb3-8c4a9aba2c73"
      },
      "source": [
        "nbadf['Age'][nbadf['Team']=='Los Angeles Lakers']"
      ],
      "execution_count": null,
      "outputs": [
        {
          "output_type": "execute_result",
          "data": {
            "text/plain": [
              "Name\n",
              "Brandon Bass         31.0\n",
              "Tarik Black          24.0\n",
              "Anthony Brown        23.0\n",
              "Kobe Bryant          37.0\n",
              "Jordan Clarkson      24.0\n",
              "Roy Hibbert          29.0\n",
              "Marcelo Huertas      33.0\n",
              "Ryan Kelly           25.0\n",
              "Larry Nance Jr.      23.0\n",
              "Julius Randle        21.0\n",
              "D'Angelo Russell     20.0\n",
              "Robert Sacre         27.0\n",
              "Louis Williams       29.0\n",
              "Metta World Peace    36.0\n",
              "Nick Young           31.0\n",
              "Name: Age, dtype: float64"
            ]
          },
          "metadata": {
            "tags": []
          },
          "execution_count": 163
        }
      ]
    },
    {
      "cell_type": "code",
      "metadata": {
        "id": "zzljD3Q9vii2",
        "colab": {
          "base_uri": "https://localhost:8080/"
        },
        "outputId": "aac3a595-d55e-4fc2-ce9b-878b014bfa3f"
      },
      "source": [
        "#What are the teams that have players from Stanford\r\n",
        "nbadf['Team'][nbadf['College']=='Stanford']"
      ],
      "execution_count": null,
      "outputs": [
        {
          "output_type": "execute_result",
          "data": {
            "text/plain": [
              "Name\n",
              "Brook Lopez              Brooklyn Nets\n",
              "Robin Lopez            New York Knicks\n",
              "Anthony Brown       Los Angeles Lakers\n",
              "Dwight Powell         Dallas Mavericks\n",
              "Josh Huestis     Oklahoma City Thunder\n",
              "Name: Team, dtype: object"
            ]
          },
          "metadata": {
            "tags": []
          },
          "execution_count": 164
        }
      ]
    },
    {
      "cell_type": "markdown",
      "metadata": {
        "id": "4-Oei5rsvdJS"
      },
      "source": [
        "#### Grouping \r\n"
      ]
    },
    {
      "cell_type": "code",
      "metadata": {
        "id": "3JScOnRWvfTl",
        "colab": {
          "base_uri": "https://localhost:8080/"
        },
        "outputId": "f8287d3a-5d11-4ba4-fec4-ce074e6c2a5b"
      },
      "source": [
        "#Group the rows based on a certain common attribute \r\n",
        "#What are the teams that are there in our dataset\r\n",
        "\r\n",
        "nbadf.groupby(['Team']).groups.keys()"
      ],
      "execution_count": null,
      "outputs": [
        {
          "output_type": "execute_result",
          "data": {
            "text/plain": [
              "dict_keys(['Atlanta Hawks', 'Boston Celtics', 'Brooklyn Nets', 'Charlotte Hornets', 'Chicago Bulls', 'Cleveland Cavaliers', 'Dallas Mavericks', 'Denver Nuggets', 'Detroit Pistons', 'Golden State Warriors', 'Houston Rockets', 'Indiana Pacers', 'Los Angeles Clippers', 'Los Angeles Lakers', 'Memphis Grizzlies', 'Miami Heat', 'Milwaukee Bucks', 'Minnesota Timberwolves', 'New Orleans Pelicans', 'New York Knicks', 'Oklahoma City Thunder', 'Orlando Magic', 'Philadelphia 76ers', 'Phoenix Suns', 'Portland Trail Blazers', 'Sacramento Kings', 'San Antonio Spurs', 'Toronto Raptors', 'Utah Jazz', 'Washington Wizards'])"
            ]
          },
          "metadata": {
            "tags": []
          },
          "execution_count": 165
        }
      ]
    },
    {
      "cell_type": "code",
      "metadata": {
        "id": "HFop4OmmwRb7",
        "colab": {
          "base_uri": "https://localhost:8080/"
        },
        "outputId": "f6768f63-88f2-4437-9002-4946968577e7"
      },
      "source": [
        "nbadf.groupby(['Team']).groups"
      ],
      "execution_count": null,
      "outputs": [
        {
          "output_type": "execute_result",
          "data": {
            "text/plain": [
              "{'Atlanta Hawks': ['Kent Bazemore', 'Tim Hardaway Jr.', 'Kirk Hinrich', 'Al Horford', 'Kris Humphries', 'Kyle Korver', 'Paul Millsap', 'Mike Muscala', 'Lamar Patterson', 'Dennis Schroder', 'Mike Scott', 'Thabo Sefolosha', 'Tiago Splitter', 'Walter Tavares', 'Jeff Teague'], 'Boston Celtics': ['Avery Bradley', 'Jae Crowder', 'John Holland', 'R.J. Hunter', 'Jonas Jerebko', 'Amir Johnson', 'Jordan Mickey', 'Kelly Olynyk', 'Terry Rozier', 'Marcus Smart', 'Jared Sullinger', 'Isaiah Thomas', 'Evan Turner', 'James Young', 'Tyler Zeller'], 'Brooklyn Nets': ['Bojan Bogdanovic', 'Markel Brown', 'Wayne Ellington', 'Rondae Hollis-Jefferson', 'Jarrett Jack', 'Sergey Karasev', 'Sean Kilpatrick', 'Shane Larkin', 'Brook Lopez', 'Chris McCullough', 'Willie Reed', 'Thomas Robinson', 'Henry Sims', 'Donald Sloan', 'Thaddeus Young'], 'Charlotte Hornets': ['Nicolas Batum', 'Troy Daniels', 'Jorge Gutierrez', 'Tyler Hansbrough', 'Aaron Harrison', 'Spencer Hawes', 'Al Jefferson', 'Frank Kaminsky III', 'Michael Kidd-Gilchrist', 'Jeremy Lamb', 'Courtney Lee', 'Jeremy Lin', 'Kemba Walker', 'Marvin Williams', 'Cody Zeller'], 'Chicago Bulls': ['Cameron Bairstow', 'Aaron Brooks', 'Jimmy Butler', 'Mike Dunleavy', 'Cristiano Felicio', 'Pau Gasol', 'Taj Gibson', 'Justin Holiday', 'Doug McDermott', 'Nikola Mirotic', 'E'Twaun Moore', 'Joakim Noah', 'Bobby Portis', 'Derrick Rose', 'Tony Snell'], 'Cleveland Cavaliers': ['Matthew Dellavedova', 'Channing Frye', 'Kyrie Irving', 'LeBron James', 'Richard Jefferson', 'Dahntay Jones', 'James Jones', 'Sasha Kaun', 'Kevin Love', 'Jordan McRae', 'Timofey Mozgov', 'Iman Shumpert', 'J.R. Smith', 'Tristan Thompson', 'Mo Williams'], 'Dallas Mavericks': ['Justin Anderson', 'J.J. Barea', 'Jeremy Evans', 'Raymond Felton', 'Devin Harris', 'David Lee', 'Wesley Matthews', 'JaVale McGee', 'Salah Mejri', 'Dirk Nowitzki', 'Zaza Pachulia', 'Chandler Parsons', 'Dwight Powell', 'Charlie Villanueva', 'Deron Williams'], 'Denver Nuggets': ['Darrell Arthur', 'D.J. Augustin', 'Will Barton', 'Wilson Chandler', 'Kenneth Faried', 'Danilo Gallinari', 'Gary Harris', 'Nikola Jokic', 'Joffrey Lauvergne', 'Mike Miller', 'Emmanuel Mudiay', 'Jameer Nelson', 'Jusuf Nurkic', 'JaKarr Sampson', 'Axel Toupane'], 'Detroit Pistons': ['Joel Anthony', 'Aron Baynes', 'Steve Blake', 'Lorenzo Brown', 'Reggie Bullock', 'Kentavious Caldwell-Pope', 'Spencer Dinwiddie', 'Andre Drummond', 'Tobias Harris', 'Darrun Hilliard', 'Reggie Jackson', 'Stanley Johnson', 'Jodie Meeks', 'Marcus Morris', 'Anthony Tolliver'], 'Golden State Warriors': ['Leandro Barbosa', 'Harrison Barnes', 'Andrew Bogut', 'Ian Clark', 'Stephen Curry', 'Festus Ezeli', 'Draymond Green', 'Andre Iguodala', 'Shaun Livingston', 'Kevon Looney', 'James Michael McAdoo', 'Brandon Rush', 'Marreese Speights', 'Klay Thompson', 'Anderson Varejao'], 'Houston Rockets': ['Trevor Ariza', 'Michael Beasley', 'Patrick Beverley', 'Corey Brewer', 'Clint Capela', 'Sam Dekker', 'Andrew Goudelock', 'James Harden', 'Montrezl Harrell', 'Dwight Howard', 'Terrence Jones', 'K.J. McDaniels', 'Donatas Motiejunas', 'Josh Smith', 'Jason Terry'], 'Indiana Pacers': ['Lavoy Allen', 'Rakeem Christmas', 'Monta Ellis', 'Paul George', 'George Hill', 'Jordan Hill', 'Solomon Hill', 'Ty Lawson', 'Ian Mahinmi', 'C.J. Miles', 'Glenn Robinson III', 'Rodney Stuckey', 'Myles Turner', 'Shayne Whittington', 'Joe Young'], 'Los Angeles Clippers': ['Cole Aldrich', 'Jeff Ayres', 'Jamal Crawford', 'Branden Dawson', 'Jeff Green', 'Blake Griffin', 'Wesley Johnson', 'DeAndre Jordan', 'Luc Richard Mbah a Moute', 'Chris Paul', 'Paul Pierce', 'Pablo Prigioni', 'JJ Redick', 'Austin Rivers', 'C.J. Wilcox'], 'Los Angeles Lakers': ['Brandon Bass', 'Tarik Black', 'Anthony Brown', 'Kobe Bryant', 'Jordan Clarkson', 'Roy Hibbert', 'Marcelo Huertas', 'Ryan Kelly', 'Larry Nance Jr.', 'Julius Randle', 'D'Angelo Russell', 'Robert Sacre', 'Louis Williams', 'Metta World Peace', 'Nick Young'], 'Memphis Grizzlies': ['Jordan Adams', 'Tony Allen', 'Chris Andersen', 'Matt Barnes', 'Vince Carter', 'Mike Conley', 'Bryce Cotton', 'Jordan Farmar', 'Marc Gasol', 'JaMychal Green', 'P.J. Hairston', 'Jarell Martin', 'Ray McCallum', 'Xavier Munford', 'Zach Randolph', 'Lance Stephenson', 'Alex Stepheson', 'Brandan Wright'], 'Miami Heat': ['Chris Bosh', 'Luol Deng', 'Goran Dragic', 'Gerald Green', 'Udonis Haslem', 'Joe Johnson', 'Tyler Johnson', 'Josh McRoberts', 'Josh Richardson', 'Amar'e Stoudemire', 'Dwyane Wade', 'Briante Weber', 'Hassan Whiteside', 'Justise Winslow', 'Dorell Wright'], 'Milwaukee Bucks': ['Giannis Antetokounmpo', 'Jerryd Bayless', 'Michael Carter-Williams', 'Jared Cunningham', 'Tyler Ennis', 'John Henson', 'Damien Inglis', 'O.J. Mayo', 'Khris Middleton', 'Greg Monroe', 'Steve Novak', 'Johnny O'Bryant III', 'Jabari Parker', 'Miles Plumlee', 'Greivis Vasquez', 'Rashad Vaughn'], 'Minnesota Timberwolves': ['Nemanja Bjelica', 'Gorgui Dieng', 'Kevin Garnett', 'Tyus Jones', 'Zach LaVine', 'Shabazz Muhammad', 'Adreian Payne', 'Nikola Pekovic', 'Tayshaun Prince', 'Ricky Rubio', 'Damjan Rudez', 'Greg Smith', 'Karl-Anthony Towns', 'Andrew Wiggins'], 'New Orleans Pelicans': ['Alexis Ajinca', 'Ryan Anderson', 'Omer Asik', 'Luke Babbitt', 'Norris Cole', 'Dante Cunningham', 'Anthony Davis', 'Bryce Dejean-Jones', 'Toney Douglas', 'James Ennis', 'Tyreke Evans', 'Tim Frazier', 'Alonzo Gee', 'Eric Gordon', 'Jordan Hamilton', 'Jrue Holiday', 'Orlando Johnson', 'Kendrick Perkins', 'Quincy Pondexter'], 'New York Knicks': ['Arron Afflalo', 'Lou Amundson', 'Thanasis Antetokounmpo', 'Carmelo Anthony', 'Jose Calderon', 'Cleanthony Early', 'Langston Galloway', 'Jerian Grant', 'Robin Lopez', 'Kyle O'Quinn', 'Kristaps Porzingis', 'Kevin Seraphin', 'Lance Thomas', 'Sasha Vujacic', 'Derrick Williams', 'Tony Wroten'], 'Oklahoma City Thunder': ['Steven Adams', 'Nick Collison', 'Kevin Durant', 'Randy Foye', 'Josh Huestis', 'Serge Ibaka', 'Enes Kanter', 'Mitch McGary', 'Nazr Mohammed', 'Anthony Morrow', 'Cameron Payne', 'Andre Roberson', 'Kyle Singler', 'Dion Waiters', 'Russell Westbrook'], 'Orlando Magic': ['Dewayne Dedmon', 'Evan Fournier', 'Aaron Gordon', 'Mario Hezonja', 'Ersan Ilyasova', 'Brandon Jennings', 'Devyn Marble', 'Shabazz Napier', 'Andrew Nicholson', 'Victor Oladipo', 'Elfrid Payton', 'Jason Smith', 'Nikola Vucevic', 'C.J. Watson'], 'Philadelphia 76ers': ['Elton Brand', 'Isaiah Canaan', 'Robert Covington', 'Joel Embiid', 'Jerami Grant', 'Richaun Holmes', 'Carl Landry', 'Kendall Marshall', 'T.J. McConnell', 'Nerlens Noel', 'Jahlil Okafor', 'Ish Smith', 'Nik Stauskas', 'Hollis Thompson', 'Christian Wood'], 'Phoenix Suns': ['Eric Bledsoe', 'Devin Booker', 'Chase Budinger', 'Tyson Chandler', 'Archie Goodwin', 'John Jenkins', 'Brandon Knight', 'Alex Len', 'Jon Leuer', 'Phil Pressey', 'Ronnie Price', 'Mirza Teletovic', 'P.J. Tucker', 'T.J. Warren', 'Alan Williams'], 'Portland Trail Blazers': ['Cliff Alexander', 'Al-Farouq Aminu', 'Pat Connaughton', 'Allen Crabbe', 'Ed Davis', 'Maurice Harkless', 'Gerald Henderson', 'Chris Kaman', 'Meyers Leonard', 'Damian Lillard', 'C.J. McCollum', 'Luis Montero', 'Mason Plumlee', 'Brian Roberts', 'Noah Vonleh'], 'Sacramento Kings': ['Quincy Acy', 'James Anderson', 'Marco Belinelli', 'Caron Butler', 'Omri Casspi', 'Willie Cauley-Stein', 'Darren Collison', 'DeMarcus Cousins', 'Seth Curry', 'Duje Dukan', 'Rudy Gay', 'Kosta Koufos', 'Ben McLemore', 'Eric Moreland', 'Rajon Rondo'], 'San Antonio Spurs': ['LaMarcus Aldridge', 'Kyle Anderson', 'Matt Bonner', 'Boris Diaw', 'Tim Duncan', 'Manu Ginobili', 'Danny Green', 'Kawhi Leonard', 'Boban Marjanovic', 'Kevin Martin', 'Andre Miller', 'Patty Mills', 'Tony Parker', 'Jonathon Simmons', 'David West'], 'Toronto Raptors': ['Bismack Biyombo', 'Bruno Caboclo', 'DeMarre Carroll', 'DeMar DeRozan', 'James Johnson', 'Cory Joseph', 'Kyle Lowry', 'Lucas Nogueira', 'Patrick Patterson', 'Norman Powell', 'Terrence Ross', 'Luis Scola', 'Jason Thompson', 'Jonas Valanciunas', 'Delon Wright'], 'Utah Jazz': ['Trevor Booker', 'Trey Burke', 'Alec Burks', 'Dante Exum', 'Derrick Favors', 'Rudy Gobert', 'Gordon Hayward', 'Rodney Hood', 'Joe Ingles', 'Chris Johnson', 'Trey Lyles', 'Shelvin Mack', 'Raul Neto', 'Tibor Pleiss', 'Jeff Withey'], 'Washington Wizards': ['Alan Anderson', 'Bradley Beal', 'Jared Dudley', 'Jarell Eddie', 'Drew Gooden', 'Marcin Gortat', 'JJ Hickson', 'Nene Hilario', 'Markieff Morris', 'Kelly Oubre Jr.', 'Otto Porter Jr.', 'Ramon Sessions', 'Garrett Temple', 'Marcus Thornton', 'John Wall']}"
            ]
          },
          "metadata": {
            "tags": []
          },
          "execution_count": 166
        }
      ]
    },
    {
      "cell_type": "markdown",
      "metadata": {
        "id": "G2H903PwwZTk"
      },
      "source": [
        "##### Can we find the players age for each team instead of just LA Lakers\r\n",
        "\r\n"
      ]
    },
    {
      "cell_type": "code",
      "metadata": {
        "id": "wKjkcXSQwgaZ",
        "colab": {
          "base_uri": "https://localhost:8080/",
          "height": 999
        },
        "outputId": "37d7a3bf-54f1-49c5-cbd5-dcd38fa7b163"
      },
      "source": [
        "#Grouping players from each team in our dataset \r\n",
        "nbadf.groupby('Team')['Age'].describe()"
      ],
      "execution_count": null,
      "outputs": [
        {
          "output_type": "execute_result",
          "data": {
            "text/html": [
              "<div>\n",
              "<style scoped>\n",
              "    .dataframe tbody tr th:only-of-type {\n",
              "        vertical-align: middle;\n",
              "    }\n",
              "\n",
              "    .dataframe tbody tr th {\n",
              "        vertical-align: top;\n",
              "    }\n",
              "\n",
              "    .dataframe thead th {\n",
              "        text-align: right;\n",
              "    }\n",
              "</style>\n",
              "<table border=\"1\" class=\"dataframe\">\n",
              "  <thead>\n",
              "    <tr style=\"text-align: right;\">\n",
              "      <th></th>\n",
              "      <th>count</th>\n",
              "      <th>mean</th>\n",
              "      <th>std</th>\n",
              "      <th>min</th>\n",
              "      <th>25%</th>\n",
              "      <th>50%</th>\n",
              "      <th>75%</th>\n",
              "      <th>max</th>\n",
              "    </tr>\n",
              "    <tr>\n",
              "      <th>Team</th>\n",
              "      <th></th>\n",
              "      <th></th>\n",
              "      <th></th>\n",
              "      <th></th>\n",
              "      <th></th>\n",
              "      <th></th>\n",
              "      <th></th>\n",
              "      <th></th>\n",
              "    </tr>\n",
              "  </thead>\n",
              "  <tbody>\n",
              "    <tr>\n",
              "      <th>Boston Celtics</th>\n",
              "      <td>15.0</td>\n",
              "      <td>24.733333</td>\n",
              "      <td>2.840188</td>\n",
              "      <td>20.0</td>\n",
              "      <td>22.00</td>\n",
              "      <td>25.0</td>\n",
              "      <td>27.00</td>\n",
              "      <td>29.0</td>\n",
              "    </tr>\n",
              "    <tr>\n",
              "      <th>Brooklyn Nets</th>\n",
              "      <td>15.0</td>\n",
              "      <td>25.600000</td>\n",
              "      <td>3.018988</td>\n",
              "      <td>21.0</td>\n",
              "      <td>23.50</td>\n",
              "      <td>26.0</td>\n",
              "      <td>27.50</td>\n",
              "      <td>32.0</td>\n",
              "    </tr>\n",
              "    <tr>\n",
              "      <th>New York Knicks</th>\n",
              "      <td>16.0</td>\n",
              "      <td>27.000000</td>\n",
              "      <td>4.179314</td>\n",
              "      <td>20.0</td>\n",
              "      <td>23.75</td>\n",
              "      <td>26.0</td>\n",
              "      <td>30.50</td>\n",
              "      <td>34.0</td>\n",
              "    </tr>\n",
              "    <tr>\n",
              "      <th>Philadelphia 76ers</th>\n",
              "      <td>15.0</td>\n",
              "      <td>24.600000</td>\n",
              "      <td>4.563833</td>\n",
              "      <td>20.0</td>\n",
              "      <td>22.00</td>\n",
              "      <td>24.0</td>\n",
              "      <td>25.00</td>\n",
              "      <td>37.0</td>\n",
              "    </tr>\n",
              "    <tr>\n",
              "      <th>Toronto Raptors</th>\n",
              "      <td>15.0</td>\n",
              "      <td>26.133333</td>\n",
              "      <td>3.961722</td>\n",
              "      <td>20.0</td>\n",
              "      <td>23.50</td>\n",
              "      <td>25.0</td>\n",
              "      <td>29.00</td>\n",
              "      <td>36.0</td>\n",
              "    </tr>\n",
              "    <tr>\n",
              "      <th>Golden State Warriors</th>\n",
              "      <td>15.0</td>\n",
              "      <td>27.666667</td>\n",
              "      <td>3.848314</td>\n",
              "      <td>20.0</td>\n",
              "      <td>25.50</td>\n",
              "      <td>28.0</td>\n",
              "      <td>30.50</td>\n",
              "      <td>33.0</td>\n",
              "    </tr>\n",
              "    <tr>\n",
              "      <th>Los Angeles Clippers</th>\n",
              "      <td>15.0</td>\n",
              "      <td>29.466667</td>\n",
              "      <td>4.897035</td>\n",
              "      <td>23.0</td>\n",
              "      <td>27.00</td>\n",
              "      <td>29.0</td>\n",
              "      <td>31.00</td>\n",
              "      <td>39.0</td>\n",
              "    </tr>\n",
              "    <tr>\n",
              "      <th>Los Angeles Lakers</th>\n",
              "      <td>15.0</td>\n",
              "      <td>27.533333</td>\n",
              "      <td>5.289702</td>\n",
              "      <td>20.0</td>\n",
              "      <td>23.50</td>\n",
              "      <td>27.0</td>\n",
              "      <td>31.00</td>\n",
              "      <td>37.0</td>\n",
              "    </tr>\n",
              "    <tr>\n",
              "      <th>Phoenix Suns</th>\n",
              "      <td>15.0</td>\n",
              "      <td>25.866667</td>\n",
              "      <td>4.240395</td>\n",
              "      <td>19.0</td>\n",
              "      <td>22.50</td>\n",
              "      <td>25.0</td>\n",
              "      <td>29.00</td>\n",
              "      <td>33.0</td>\n",
              "    </tr>\n",
              "    <tr>\n",
              "      <th>Sacramento Kings</th>\n",
              "      <td>15.0</td>\n",
              "      <td>26.800000</td>\n",
              "      <td>3.529468</td>\n",
              "      <td>22.0</td>\n",
              "      <td>24.50</td>\n",
              "      <td>27.0</td>\n",
              "      <td>28.50</td>\n",
              "      <td>36.0</td>\n",
              "    </tr>\n",
              "    <tr>\n",
              "      <th>Chicago Bulls</th>\n",
              "      <td>15.0</td>\n",
              "      <td>27.400000</td>\n",
              "      <td>4.188419</td>\n",
              "      <td>21.0</td>\n",
              "      <td>24.50</td>\n",
              "      <td>27.0</td>\n",
              "      <td>30.50</td>\n",
              "      <td>35.0</td>\n",
              "    </tr>\n",
              "    <tr>\n",
              "      <th>Cleveland Cavaliers</th>\n",
              "      <td>15.0</td>\n",
              "      <td>29.533333</td>\n",
              "      <td>4.120795</td>\n",
              "      <td>24.0</td>\n",
              "      <td>25.00</td>\n",
              "      <td>30.0</td>\n",
              "      <td>33.00</td>\n",
              "      <td>35.0</td>\n",
              "    </tr>\n",
              "    <tr>\n",
              "      <th>Detroit Pistons</th>\n",
              "      <td>15.0</td>\n",
              "      <td>26.200000</td>\n",
              "      <td>4.443294</td>\n",
              "      <td>20.0</td>\n",
              "      <td>23.00</td>\n",
              "      <td>25.0</td>\n",
              "      <td>28.50</td>\n",
              "      <td>36.0</td>\n",
              "    </tr>\n",
              "    <tr>\n",
              "      <th>Indiana Pacers</th>\n",
              "      <td>15.0</td>\n",
              "      <td>26.400000</td>\n",
              "      <td>3.157757</td>\n",
              "      <td>20.0</td>\n",
              "      <td>24.50</td>\n",
              "      <td>27.0</td>\n",
              "      <td>29.00</td>\n",
              "      <td>30.0</td>\n",
              "    </tr>\n",
              "    <tr>\n",
              "      <th>Milwaukee Bucks</th>\n",
              "      <td>16.0</td>\n",
              "      <td>24.562500</td>\n",
              "      <td>3.520772</td>\n",
              "      <td>19.0</td>\n",
              "      <td>21.00</td>\n",
              "      <td>24.5</td>\n",
              "      <td>27.00</td>\n",
              "      <td>32.0</td>\n",
              "    </tr>\n",
              "    <tr>\n",
              "      <th>Dallas Mavericks</th>\n",
              "      <td>15.0</td>\n",
              "      <td>29.733333</td>\n",
              "      <td>3.712271</td>\n",
              "      <td>22.0</td>\n",
              "      <td>28.00</td>\n",
              "      <td>31.0</td>\n",
              "      <td>31.50</td>\n",
              "      <td>37.0</td>\n",
              "    </tr>\n",
              "    <tr>\n",
              "      <th>Houston Rockets</th>\n",
              "      <td>15.0</td>\n",
              "      <td>26.866667</td>\n",
              "      <td>4.323799</td>\n",
              "      <td>22.0</td>\n",
              "      <td>23.50</td>\n",
              "      <td>27.0</td>\n",
              "      <td>30.00</td>\n",
              "      <td>38.0</td>\n",
              "    </tr>\n",
              "    <tr>\n",
              "      <th>Memphis Grizzlies</th>\n",
              "      <td>18.0</td>\n",
              "      <td>28.388889</td>\n",
              "      <td>5.585052</td>\n",
              "      <td>21.0</td>\n",
              "      <td>24.00</td>\n",
              "      <td>28.0</td>\n",
              "      <td>33.25</td>\n",
              "      <td>39.0</td>\n",
              "    </tr>\n",
              "    <tr>\n",
              "      <th>New Orleans Pelicans</th>\n",
              "      <td>19.0</td>\n",
              "      <td>26.894737</td>\n",
              "      <td>2.233451</td>\n",
              "      <td>23.0</td>\n",
              "      <td>25.00</td>\n",
              "      <td>27.0</td>\n",
              "      <td>28.50</td>\n",
              "      <td>31.0</td>\n",
              "    </tr>\n",
              "    <tr>\n",
              "      <th>San Antonio Spurs</th>\n",
              "      <td>15.0</td>\n",
              "      <td>31.600000</td>\n",
              "      <td>5.766901</td>\n",
              "      <td>22.0</td>\n",
              "      <td>27.00</td>\n",
              "      <td>33.0</td>\n",
              "      <td>35.50</td>\n",
              "      <td>40.0</td>\n",
              "    </tr>\n",
              "    <tr>\n",
              "      <th>Atlanta Hawks</th>\n",
              "      <td>15.0</td>\n",
              "      <td>28.200000</td>\n",
              "      <td>4.229151</td>\n",
              "      <td>22.0</td>\n",
              "      <td>24.00</td>\n",
              "      <td>27.0</td>\n",
              "      <td>31.00</td>\n",
              "      <td>35.0</td>\n",
              "    </tr>\n",
              "    <tr>\n",
              "      <th>Charlotte Hornets</th>\n",
              "      <td>15.0</td>\n",
              "      <td>26.133333</td>\n",
              "      <td>3.159265</td>\n",
              "      <td>21.0</td>\n",
              "      <td>23.50</td>\n",
              "      <td>27.0</td>\n",
              "      <td>28.50</td>\n",
              "      <td>31.0</td>\n",
              "    </tr>\n",
              "    <tr>\n",
              "      <th>Miami Heat</th>\n",
              "      <td>15.0</td>\n",
              "      <td>28.933333</td>\n",
              "      <td>4.861902</td>\n",
              "      <td>20.0</td>\n",
              "      <td>25.00</td>\n",
              "      <td>30.0</td>\n",
              "      <td>32.50</td>\n",
              "      <td>36.0</td>\n",
              "    </tr>\n",
              "    <tr>\n",
              "      <th>Orlando Magic</th>\n",
              "      <td>14.0</td>\n",
              "      <td>25.071429</td>\n",
              "      <td>3.429830</td>\n",
              "      <td>20.0</td>\n",
              "      <td>23.00</td>\n",
              "      <td>24.5</td>\n",
              "      <td>26.00</td>\n",
              "      <td>32.0</td>\n",
              "    </tr>\n",
              "    <tr>\n",
              "      <th>Washington Wizards</th>\n",
              "      <td>15.0</td>\n",
              "      <td>27.866667</td>\n",
              "      <td>4.389381</td>\n",
              "      <td>20.0</td>\n",
              "      <td>24.50</td>\n",
              "      <td>29.0</td>\n",
              "      <td>31.00</td>\n",
              "      <td>34.0</td>\n",
              "    </tr>\n",
              "    <tr>\n",
              "      <th>Denver Nuggets</th>\n",
              "      <td>15.0</td>\n",
              "      <td>25.733333</td>\n",
              "      <td>4.742915</td>\n",
              "      <td>20.0</td>\n",
              "      <td>22.00</td>\n",
              "      <td>25.0</td>\n",
              "      <td>28.00</td>\n",
              "      <td>36.0</td>\n",
              "    </tr>\n",
              "    <tr>\n",
              "      <th>Minnesota Timberwolves</th>\n",
              "      <td>14.0</td>\n",
              "      <td>26.357143</td>\n",
              "      <td>5.930458</td>\n",
              "      <td>20.0</td>\n",
              "      <td>21.50</td>\n",
              "      <td>25.0</td>\n",
              "      <td>28.75</td>\n",
              "      <td>40.0</td>\n",
              "    </tr>\n",
              "    <tr>\n",
              "      <th>Oklahoma City Thunder</th>\n",
              "      <td>15.0</td>\n",
              "      <td>27.066667</td>\n",
              "      <td>4.832430</td>\n",
              "      <td>21.0</td>\n",
              "      <td>24.00</td>\n",
              "      <td>26.0</td>\n",
              "      <td>29.00</td>\n",
              "      <td>38.0</td>\n",
              "    </tr>\n",
              "    <tr>\n",
              "      <th>Portland Trail Blazers</th>\n",
              "      <td>15.0</td>\n",
              "      <td>25.066667</td>\n",
              "      <td>3.634491</td>\n",
              "      <td>20.0</td>\n",
              "      <td>23.00</td>\n",
              "      <td>24.0</td>\n",
              "      <td>26.50</td>\n",
              "      <td>34.0</td>\n",
              "    </tr>\n",
              "    <tr>\n",
              "      <th>Utah Jazz</th>\n",
              "      <td>15.0</td>\n",
              "      <td>24.466667</td>\n",
              "      <td>2.445599</td>\n",
              "      <td>20.0</td>\n",
              "      <td>23.00</td>\n",
              "      <td>24.0</td>\n",
              "      <td>26.00</td>\n",
              "      <td>28.0</td>\n",
              "    </tr>\n",
              "  </tbody>\n",
              "</table>\n",
              "</div>"
            ],
            "text/plain": [
              "                        count       mean       std  ...   50%    75%   max\n",
              "Team                                                ...                   \n",
              "Boston Celtics           15.0  24.733333  2.840188  ...  25.0  27.00  29.0\n",
              "Brooklyn Nets            15.0  25.600000  3.018988  ...  26.0  27.50  32.0\n",
              "New York Knicks          16.0  27.000000  4.179314  ...  26.0  30.50  34.0\n",
              "Philadelphia 76ers       15.0  24.600000  4.563833  ...  24.0  25.00  37.0\n",
              "Toronto Raptors          15.0  26.133333  3.961722  ...  25.0  29.00  36.0\n",
              "Golden State Warriors    15.0  27.666667  3.848314  ...  28.0  30.50  33.0\n",
              "Los Angeles Clippers     15.0  29.466667  4.897035  ...  29.0  31.00  39.0\n",
              "Los Angeles Lakers       15.0  27.533333  5.289702  ...  27.0  31.00  37.0\n",
              "Phoenix Suns             15.0  25.866667  4.240395  ...  25.0  29.00  33.0\n",
              "Sacramento Kings         15.0  26.800000  3.529468  ...  27.0  28.50  36.0\n",
              "Chicago Bulls            15.0  27.400000  4.188419  ...  27.0  30.50  35.0\n",
              "Cleveland Cavaliers      15.0  29.533333  4.120795  ...  30.0  33.00  35.0\n",
              "Detroit Pistons          15.0  26.200000  4.443294  ...  25.0  28.50  36.0\n",
              "Indiana Pacers           15.0  26.400000  3.157757  ...  27.0  29.00  30.0\n",
              "Milwaukee Bucks          16.0  24.562500  3.520772  ...  24.5  27.00  32.0\n",
              "Dallas Mavericks         15.0  29.733333  3.712271  ...  31.0  31.50  37.0\n",
              "Houston Rockets          15.0  26.866667  4.323799  ...  27.0  30.00  38.0\n",
              "Memphis Grizzlies        18.0  28.388889  5.585052  ...  28.0  33.25  39.0\n",
              "New Orleans Pelicans     19.0  26.894737  2.233451  ...  27.0  28.50  31.0\n",
              "San Antonio Spurs        15.0  31.600000  5.766901  ...  33.0  35.50  40.0\n",
              "Atlanta Hawks            15.0  28.200000  4.229151  ...  27.0  31.00  35.0\n",
              "Charlotte Hornets        15.0  26.133333  3.159265  ...  27.0  28.50  31.0\n",
              "Miami Heat               15.0  28.933333  4.861902  ...  30.0  32.50  36.0\n",
              "Orlando Magic            14.0  25.071429  3.429830  ...  24.5  26.00  32.0\n",
              "Washington Wizards       15.0  27.866667  4.389381  ...  29.0  31.00  34.0\n",
              "Denver Nuggets           15.0  25.733333  4.742915  ...  25.0  28.00  36.0\n",
              "Minnesota Timberwolves   14.0  26.357143  5.930458  ...  25.0  28.75  40.0\n",
              "Oklahoma City Thunder    15.0  27.066667  4.832430  ...  26.0  29.00  38.0\n",
              "Portland Trail Blazers   15.0  25.066667  3.634491  ...  24.0  26.50  34.0\n",
              "Utah Jazz                15.0  24.466667  2.445599  ...  24.0  26.00  28.0\n",
              "\n",
              "[30 rows x 8 columns]"
            ]
          },
          "metadata": {
            "tags": []
          },
          "execution_count": 170
        }
      ]
    },
    {
      "cell_type": "markdown",
      "metadata": {
        "id": "E1IqNx83yJGh"
      },
      "source": [
        "##### Group by players based on their college and find the summary stats of the salary they earn"
      ]
    },
    {
      "cell_type": "code",
      "metadata": {
        "id": "Zff6TpNgyaxR",
        "colab": {
          "base_uri": "https://localhost:8080/",
          "height": 446
        },
        "outputId": "51a292ef-3ffb-4d08-c3fb-b56dbb3ee062"
      },
      "source": [
        "nbadf.groupby(\"College\", sort=False)['Salary'].describe()\r\n",
        "\r\n",
        "#nbadf.groupby(\"College\", sort=False)['Salary'].max()\r\n",
        "\r\n",
        "#nbadf.groupby(\"College\", sort=False)['Salary'].count()\r\n"
      ],
      "execution_count": null,
      "outputs": [
        {
          "output_type": "execute_result",
          "data": {
            "text/html": [
              "<div>\n",
              "<style scoped>\n",
              "    .dataframe tbody tr th:only-of-type {\n",
              "        vertical-align: middle;\n",
              "    }\n",
              "\n",
              "    .dataframe tbody tr th {\n",
              "        vertical-align: top;\n",
              "    }\n",
              "\n",
              "    .dataframe thead th {\n",
              "        text-align: right;\n",
              "    }\n",
              "</style>\n",
              "<table border=\"1\" class=\"dataframe\">\n",
              "  <thead>\n",
              "    <tr style=\"text-align: right;\">\n",
              "      <th></th>\n",
              "      <th>count</th>\n",
              "      <th>mean</th>\n",
              "      <th>std</th>\n",
              "      <th>min</th>\n",
              "      <th>25%</th>\n",
              "      <th>50%</th>\n",
              "      <th>75%</th>\n",
              "      <th>max</th>\n",
              "    </tr>\n",
              "    <tr>\n",
              "      <th>College</th>\n",
              "      <th></th>\n",
              "      <th></th>\n",
              "      <th></th>\n",
              "      <th></th>\n",
              "      <th></th>\n",
              "      <th></th>\n",
              "      <th></th>\n",
              "      <th></th>\n",
              "    </tr>\n",
              "  </thead>\n",
              "  <tbody>\n",
              "    <tr>\n",
              "      <th>Texas</th>\n",
              "      <td>9.0</td>\n",
              "      <td>8.968001e+06</td>\n",
              "      <td>7.315839e+06</td>\n",
              "      <td>1015421.0</td>\n",
              "      <td>3000000.00</td>\n",
              "      <td>7000000.0</td>\n",
              "      <td>14260870.00</td>\n",
              "      <td>20158622.0</td>\n",
              "    </tr>\n",
              "    <tr>\n",
              "      <th>Marquette</th>\n",
              "      <td>5.0</td>\n",
              "      <td>1.198129e+07</td>\n",
              "      <td>8.168998e+06</td>\n",
              "      <td>295327.0</td>\n",
              "      <td>6796117.00</td>\n",
              "      <td>16407500.0</td>\n",
              "      <td>16407500.00</td>\n",
              "      <td>20000000.0</td>\n",
              "    </tr>\n",
              "    <tr>\n",
              "      <th>Boston University</th>\n",
              "      <td>0.0</td>\n",
              "      <td>NaN</td>\n",
              "      <td>NaN</td>\n",
              "      <td>NaN</td>\n",
              "      <td>NaN</td>\n",
              "      <td>NaN</td>\n",
              "      <td>NaN</td>\n",
              "      <td>NaN</td>\n",
              "    </tr>\n",
              "    <tr>\n",
              "      <th>Georgia State</th>\n",
              "      <td>1.0</td>\n",
              "      <td>1.148640e+06</td>\n",
              "      <td>NaN</td>\n",
              "      <td>1148640.0</td>\n",
              "      <td>1148640.00</td>\n",
              "      <td>1148640.0</td>\n",
              "      <td>1148640.00</td>\n",
              "      <td>1148640.0</td>\n",
              "    </tr>\n",
              "    <tr>\n",
              "      <th>LSU</th>\n",
              "      <td>6.0</td>\n",
              "      <td>1.258010e+06</td>\n",
              "      <td>9.334095e+05</td>\n",
              "      <td>200600.0</td>\n",
              "      <td>908944.75</td>\n",
              "      <td>1135781.0</td>\n",
              "      <td>1215870.00</td>\n",
              "      <td>3000000.0</td>\n",
              "    </tr>\n",
              "    <tr>\n",
              "      <th>...</th>\n",
              "      <td>...</td>\n",
              "      <td>...</td>\n",
              "      <td>...</td>\n",
              "      <td>...</td>\n",
              "      <td>...</td>\n",
              "      <td>...</td>\n",
              "      <td>...</td>\n",
              "      <td>...</td>\n",
              "    </tr>\n",
              "    <tr>\n",
              "      <th>Weber State</th>\n",
              "      <td>1.0</td>\n",
              "      <td>4.236287e+06</td>\n",
              "      <td>NaN</td>\n",
              "      <td>4236287.0</td>\n",
              "      <td>4236287.00</td>\n",
              "      <td>4236287.0</td>\n",
              "      <td>4236287.00</td>\n",
              "      <td>4236287.0</td>\n",
              "    </tr>\n",
              "    <tr>\n",
              "      <th>Lehigh</th>\n",
              "      <td>1.0</td>\n",
              "      <td>2.525160e+06</td>\n",
              "      <td>NaN</td>\n",
              "      <td>2525160.0</td>\n",
              "      <td>2525160.00</td>\n",
              "      <td>2525160.0</td>\n",
              "      <td>2525160.00</td>\n",
              "      <td>2525160.0</td>\n",
              "    </tr>\n",
              "    <tr>\n",
              "      <th>Westchester CC</th>\n",
              "      <td>1.0</td>\n",
              "      <td>5.250930e+05</td>\n",
              "      <td>NaN</td>\n",
              "      <td>525093.0</td>\n",
              "      <td>525093.00</td>\n",
              "      <td>525093.0</td>\n",
              "      <td>525093.00</td>\n",
              "      <td>525093.0</td>\n",
              "    </tr>\n",
              "    <tr>\n",
              "      <th>Dayton</th>\n",
              "      <td>2.0</td>\n",
              "      <td>1.918144e+06</td>\n",
              "      <td>1.324830e+06</td>\n",
              "      <td>981348.0</td>\n",
              "      <td>1449746.00</td>\n",
              "      <td>1918144.0</td>\n",
              "      <td>2386542.00</td>\n",
              "      <td>2854940.0</td>\n",
              "    </tr>\n",
              "    <tr>\n",
              "      <th>Butler</th>\n",
              "      <td>2.0</td>\n",
              "      <td>8.921452e+06</td>\n",
              "      <td>9.175585e+06</td>\n",
              "      <td>2433333.0</td>\n",
              "      <td>5677392.25</td>\n",
              "      <td>8921451.5</td>\n",
              "      <td>12165510.75</td>\n",
              "      <td>15409570.0</td>\n",
              "    </tr>\n",
              "  </tbody>\n",
              "</table>\n",
              "<p>118 rows × 8 columns</p>\n",
              "</div>"
            ],
            "text/plain": [
              "                   count          mean  ...          75%         max\n",
              "College                                 ...                         \n",
              "Texas                9.0  8.968001e+06  ...  14260870.00  20158622.0\n",
              "Marquette            5.0  1.198129e+07  ...  16407500.00  20000000.0\n",
              "Boston University    0.0           NaN  ...          NaN         NaN\n",
              "Georgia State        1.0  1.148640e+06  ...   1148640.00   1148640.0\n",
              "LSU                  6.0  1.258010e+06  ...   1215870.00   3000000.0\n",
              "...                  ...           ...  ...          ...         ...\n",
              "Weber State          1.0  4.236287e+06  ...   4236287.00   4236287.0\n",
              "Lehigh               1.0  2.525160e+06  ...   2525160.00   2525160.0\n",
              "Westchester CC       1.0  5.250930e+05  ...    525093.00    525093.0\n",
              "Dayton               2.0  1.918144e+06  ...   2386542.00   2854940.0\n",
              "Butler               2.0  8.921452e+06  ...  12165510.75  15409570.0\n",
              "\n",
              "[118 rows x 8 columns]"
            ]
          },
          "metadata": {
            "tags": []
          },
          "execution_count": 173
        }
      ]
    },
    {
      "cell_type": "markdown",
      "metadata": {
        "id": "YnRe8_PT1ob3"
      },
      "source": [
        "#####How about now access one row from this groupby lets say stanford"
      ]
    },
    {
      "cell_type": "code",
      "metadata": {
        "id": "z18hWlh01nwr",
        "colab": {
          "base_uri": "https://localhost:8080/",
          "height": 233
        },
        "outputId": "834f0078-2090-4440-8678-bb66efc9e57c"
      },
      "source": [
        "stanford = nbadf.groupby('College', sort=False)\r\n",
        "stanford.get_group('Stanford')"
      ],
      "execution_count": null,
      "outputs": [
        {
          "output_type": "execute_result",
          "data": {
            "text/html": [
              "<div>\n",
              "<style scoped>\n",
              "    .dataframe tbody tr th:only-of-type {\n",
              "        vertical-align: middle;\n",
              "    }\n",
              "\n",
              "    .dataframe tbody tr th {\n",
              "        vertical-align: top;\n",
              "    }\n",
              "\n",
              "    .dataframe thead th {\n",
              "        text-align: right;\n",
              "    }\n",
              "</style>\n",
              "<table border=\"1\" class=\"dataframe\">\n",
              "  <thead>\n",
              "    <tr style=\"text-align: right;\">\n",
              "      <th></th>\n",
              "      <th>Team</th>\n",
              "      <th>Number</th>\n",
              "      <th>Position</th>\n",
              "      <th>Age</th>\n",
              "      <th>Height</th>\n",
              "      <th>Weight</th>\n",
              "      <th>College</th>\n",
              "      <th>Salary</th>\n",
              "    </tr>\n",
              "    <tr>\n",
              "      <th>Name</th>\n",
              "      <th></th>\n",
              "      <th></th>\n",
              "      <th></th>\n",
              "      <th></th>\n",
              "      <th></th>\n",
              "      <th></th>\n",
              "      <th></th>\n",
              "      <th></th>\n",
              "    </tr>\n",
              "  </thead>\n",
              "  <tbody>\n",
              "    <tr>\n",
              "      <th>Brook Lopez</th>\n",
              "      <td>Brooklyn Nets</td>\n",
              "      <td>11.0</td>\n",
              "      <td>C</td>\n",
              "      <td>28.0</td>\n",
              "      <td>7-0</td>\n",
              "      <td>275.0</td>\n",
              "      <td>Stanford</td>\n",
              "      <td>19689000.0</td>\n",
              "    </tr>\n",
              "    <tr>\n",
              "      <th>Robin Lopez</th>\n",
              "      <td>New York Knicks</td>\n",
              "      <td>8.0</td>\n",
              "      <td>C</td>\n",
              "      <td>28.0</td>\n",
              "      <td>7-0</td>\n",
              "      <td>255.0</td>\n",
              "      <td>Stanford</td>\n",
              "      <td>12650000.0</td>\n",
              "    </tr>\n",
              "    <tr>\n",
              "      <th>Anthony Brown</th>\n",
              "      <td>Los Angeles Lakers</td>\n",
              "      <td>3.0</td>\n",
              "      <td>SF</td>\n",
              "      <td>23.0</td>\n",
              "      <td>6-7</td>\n",
              "      <td>210.0</td>\n",
              "      <td>Stanford</td>\n",
              "      <td>700000.0</td>\n",
              "    </tr>\n",
              "    <tr>\n",
              "      <th>Dwight Powell</th>\n",
              "      <td>Dallas Mavericks</td>\n",
              "      <td>7.0</td>\n",
              "      <td>PF</td>\n",
              "      <td>24.0</td>\n",
              "      <td>6-11</td>\n",
              "      <td>240.0</td>\n",
              "      <td>Stanford</td>\n",
              "      <td>845059.0</td>\n",
              "    </tr>\n",
              "    <tr>\n",
              "      <th>Josh Huestis</th>\n",
              "      <td>Oklahoma City Thunder</td>\n",
              "      <td>34.0</td>\n",
              "      <td>SF</td>\n",
              "      <td>24.0</td>\n",
              "      <td>6-7</td>\n",
              "      <td>230.0</td>\n",
              "      <td>Stanford</td>\n",
              "      <td>1140240.0</td>\n",
              "    </tr>\n",
              "  </tbody>\n",
              "</table>\n",
              "</div>"
            ],
            "text/plain": [
              "                                Team  Number  ...   College      Salary\n",
              "Name                                          ...                      \n",
              "Brook Lopez            Brooklyn Nets    11.0  ...  Stanford  19689000.0\n",
              "Robin Lopez          New York Knicks     8.0  ...  Stanford  12650000.0\n",
              "Anthony Brown     Los Angeles Lakers     3.0  ...  Stanford    700000.0\n",
              "Dwight Powell       Dallas Mavericks     7.0  ...  Stanford    845059.0\n",
              "Josh Huestis   Oklahoma City Thunder    34.0  ...  Stanford   1140240.0\n",
              "\n",
              "[5 rows x 8 columns]"
            ]
          },
          "metadata": {
            "tags": []
          },
          "execution_count": 174
        }
      ]
    },
    {
      "cell_type": "markdown",
      "metadata": {
        "id": "CxDVa2Ne0F6T"
      },
      "source": [
        "##### You can group values using multiple columns\r\n",
        "\r\n",
        "##### lets group the teams and then their colleges.. "
      ]
    },
    {
      "cell_type": "code",
      "metadata": {
        "id": "SAxicFdz0OdV",
        "colab": {
          "base_uri": "https://localhost:8080/",
          "height": 446
        },
        "outputId": "429b4364-00f4-486b-8f70-8ff06d880ac1"
      },
      "source": [
        "nbadf.groupby([\"Team\", \"College\"])['Salary'].describe()\r\n"
      ],
      "execution_count": null,
      "outputs": [
        {
          "output_type": "execute_result",
          "data": {
            "text/html": [
              "<div>\n",
              "<style scoped>\n",
              "    .dataframe tbody tr th:only-of-type {\n",
              "        vertical-align: middle;\n",
              "    }\n",
              "\n",
              "    .dataframe tbody tr th {\n",
              "        vertical-align: top;\n",
              "    }\n",
              "\n",
              "    .dataframe thead th {\n",
              "        text-align: right;\n",
              "    }\n",
              "</style>\n",
              "<table border=\"1\" class=\"dataframe\">\n",
              "  <thead>\n",
              "    <tr style=\"text-align: right;\">\n",
              "      <th></th>\n",
              "      <th></th>\n",
              "      <th>count</th>\n",
              "      <th>mean</th>\n",
              "      <th>std</th>\n",
              "      <th>min</th>\n",
              "      <th>25%</th>\n",
              "      <th>50%</th>\n",
              "      <th>75%</th>\n",
              "      <th>max</th>\n",
              "    </tr>\n",
              "    <tr>\n",
              "      <th>Team</th>\n",
              "      <th>College</th>\n",
              "      <th></th>\n",
              "      <th></th>\n",
              "      <th></th>\n",
              "      <th></th>\n",
              "      <th></th>\n",
              "      <th></th>\n",
              "      <th></th>\n",
              "      <th></th>\n",
              "    </tr>\n",
              "  </thead>\n",
              "  <tbody>\n",
              "    <tr>\n",
              "      <th rowspan=\"5\" valign=\"top\">Atlanta Hawks</th>\n",
              "      <th>Bucknell</th>\n",
              "      <td>1.0</td>\n",
              "      <td>947276.0</td>\n",
              "      <td>NaN</td>\n",
              "      <td>947276.0</td>\n",
              "      <td>947276.0</td>\n",
              "      <td>947276.0</td>\n",
              "      <td>947276.0</td>\n",
              "      <td>947276.0</td>\n",
              "    </tr>\n",
              "    <tr>\n",
              "      <th>Creighton</th>\n",
              "      <td>1.0</td>\n",
              "      <td>5746479.0</td>\n",
              "      <td>NaN</td>\n",
              "      <td>5746479.0</td>\n",
              "      <td>5746479.0</td>\n",
              "      <td>5746479.0</td>\n",
              "      <td>5746479.0</td>\n",
              "      <td>5746479.0</td>\n",
              "    </tr>\n",
              "    <tr>\n",
              "      <th>Florida</th>\n",
              "      <td>1.0</td>\n",
              "      <td>12000000.0</td>\n",
              "      <td>NaN</td>\n",
              "      <td>12000000.0</td>\n",
              "      <td>12000000.0</td>\n",
              "      <td>12000000.0</td>\n",
              "      <td>12000000.0</td>\n",
              "      <td>12000000.0</td>\n",
              "    </tr>\n",
              "    <tr>\n",
              "      <th>Kansas</th>\n",
              "      <td>1.0</td>\n",
              "      <td>2854940.0</td>\n",
              "      <td>NaN</td>\n",
              "      <td>2854940.0</td>\n",
              "      <td>2854940.0</td>\n",
              "      <td>2854940.0</td>\n",
              "      <td>2854940.0</td>\n",
              "      <td>2854940.0</td>\n",
              "    </tr>\n",
              "    <tr>\n",
              "      <th>Louisiana Tech</th>\n",
              "      <td>1.0</td>\n",
              "      <td>18671659.0</td>\n",
              "      <td>NaN</td>\n",
              "      <td>18671659.0</td>\n",
              "      <td>18671659.0</td>\n",
              "      <td>18671659.0</td>\n",
              "      <td>18671659.0</td>\n",
              "      <td>18671659.0</td>\n",
              "    </tr>\n",
              "    <tr>\n",
              "      <th>...</th>\n",
              "      <th>...</th>\n",
              "      <td>...</td>\n",
              "      <td>...</td>\n",
              "      <td>...</td>\n",
              "      <td>...</td>\n",
              "      <td>...</td>\n",
              "      <td>...</td>\n",
              "      <td>...</td>\n",
              "      <td>...</td>\n",
              "    </tr>\n",
              "    <tr>\n",
              "      <th rowspan=\"5\" valign=\"top\">Washington Wizards</th>\n",
              "      <th>LSU</th>\n",
              "      <td>2.0</td>\n",
              "      <td>650601.0</td>\n",
              "      <td>636397.517281</td>\n",
              "      <td>200600.0</td>\n",
              "      <td>425600.5</td>\n",
              "      <td>650601.0</td>\n",
              "      <td>875601.5</td>\n",
              "      <td>1100602.0</td>\n",
              "    </tr>\n",
              "    <tr>\n",
              "      <th>Michigan State</th>\n",
              "      <td>1.0</td>\n",
              "      <td>4000000.0</td>\n",
              "      <td>NaN</td>\n",
              "      <td>4000000.0</td>\n",
              "      <td>4000000.0</td>\n",
              "      <td>4000000.0</td>\n",
              "      <td>4000000.0</td>\n",
              "      <td>4000000.0</td>\n",
              "    </tr>\n",
              "    <tr>\n",
              "      <th>Nevada</th>\n",
              "      <td>1.0</td>\n",
              "      <td>2170465.0</td>\n",
              "      <td>NaN</td>\n",
              "      <td>2170465.0</td>\n",
              "      <td>2170465.0</td>\n",
              "      <td>2170465.0</td>\n",
              "      <td>2170465.0</td>\n",
              "      <td>2170465.0</td>\n",
              "    </tr>\n",
              "    <tr>\n",
              "      <th>North Carolina State</th>\n",
              "      <td>1.0</td>\n",
              "      <td>273038.0</td>\n",
              "      <td>NaN</td>\n",
              "      <td>273038.0</td>\n",
              "      <td>273038.0</td>\n",
              "      <td>273038.0</td>\n",
              "      <td>273038.0</td>\n",
              "      <td>273038.0</td>\n",
              "    </tr>\n",
              "    <tr>\n",
              "      <th>Virginia Tech</th>\n",
              "      <td>1.0</td>\n",
              "      <td>561716.0</td>\n",
              "      <td>NaN</td>\n",
              "      <td>561716.0</td>\n",
              "      <td>561716.0</td>\n",
              "      <td>561716.0</td>\n",
              "      <td>561716.0</td>\n",
              "      <td>561716.0</td>\n",
              "    </tr>\n",
              "  </tbody>\n",
              "</table>\n",
              "<p>336 rows × 8 columns</p>\n",
              "</div>"
            ],
            "text/plain": [
              "                                         count  ...         max\n",
              "Team               College                      ...            \n",
              "Atlanta Hawks      Bucknell                1.0  ...    947276.0\n",
              "                   Creighton               1.0  ...   5746479.0\n",
              "                   Florida                 1.0  ...  12000000.0\n",
              "                   Kansas                  1.0  ...   2854940.0\n",
              "                   Louisiana Tech          1.0  ...  18671659.0\n",
              "...                                        ...  ...         ...\n",
              "Washington Wizards LSU                     2.0  ...   1100602.0\n",
              "                   Michigan State          1.0  ...   4000000.0\n",
              "                   Nevada                  1.0  ...   2170465.0\n",
              "                   North Carolina State    1.0  ...    273038.0\n",
              "                   Virginia Tech           1.0  ...    561716.0\n",
              "\n",
              "[336 rows x 8 columns]"
            ]
          },
          "metadata": {
            "tags": []
          },
          "execution_count": 175
        }
      ]
    },
    {
      "cell_type": "code",
      "metadata": {
        "id": "xSEv7izH0dAu",
        "colab": {
          "base_uri": "https://localhost:8080/",
          "height": 446
        },
        "outputId": "71e38ef9-1a66-4bc4-fab5-83e3792055f9"
      },
      "source": [
        "#I want to do the other way round -- \r\n",
        "#first group the values using their college and then team\r\n",
        "\r\n",
        "nbadf.groupby([\"College\", \"Team\"])['Salary'].describe()\r\n"
      ],
      "execution_count": null,
      "outputs": [
        {
          "output_type": "execute_result",
          "data": {
            "text/html": [
              "<div>\n",
              "<style scoped>\n",
              "    .dataframe tbody tr th:only-of-type {\n",
              "        vertical-align: middle;\n",
              "    }\n",
              "\n",
              "    .dataframe tbody tr th {\n",
              "        vertical-align: top;\n",
              "    }\n",
              "\n",
              "    .dataframe thead th {\n",
              "        text-align: right;\n",
              "    }\n",
              "</style>\n",
              "<table border=\"1\" class=\"dataframe\">\n",
              "  <thead>\n",
              "    <tr style=\"text-align: right;\">\n",
              "      <th></th>\n",
              "      <th></th>\n",
              "      <th>count</th>\n",
              "      <th>mean</th>\n",
              "      <th>std</th>\n",
              "      <th>min</th>\n",
              "      <th>25%</th>\n",
              "      <th>50%</th>\n",
              "      <th>75%</th>\n",
              "      <th>max</th>\n",
              "    </tr>\n",
              "    <tr>\n",
              "      <th>College</th>\n",
              "      <th>Team</th>\n",
              "      <th></th>\n",
              "      <th></th>\n",
              "      <th></th>\n",
              "      <th></th>\n",
              "      <th></th>\n",
              "      <th></th>\n",
              "      <th></th>\n",
              "      <th></th>\n",
              "    </tr>\n",
              "  </thead>\n",
              "  <tbody>\n",
              "    <tr>\n",
              "      <th rowspan=\"3\" valign=\"top\">Alabama</th>\n",
              "      <th>Cleveland Cavaliers</th>\n",
              "      <td>1.0</td>\n",
              "      <td>2100000.0</td>\n",
              "      <td>NaN</td>\n",
              "      <td>2100000.0</td>\n",
              "      <td>2100000.00</td>\n",
              "      <td>2100000.0</td>\n",
              "      <td>2100000.00</td>\n",
              "      <td>2100000.0</td>\n",
              "    </tr>\n",
              "    <tr>\n",
              "      <th>Memphis Grizzlies</th>\n",
              "      <td>1.0</td>\n",
              "      <td>845059.0</td>\n",
              "      <td>NaN</td>\n",
              "      <td>845059.0</td>\n",
              "      <td>845059.00</td>\n",
              "      <td>845059.0</td>\n",
              "      <td>845059.00</td>\n",
              "      <td>845059.0</td>\n",
              "    </tr>\n",
              "    <tr>\n",
              "      <th>New Orleans Pelicans</th>\n",
              "      <td>1.0</td>\n",
              "      <td>1320000.0</td>\n",
              "      <td>NaN</td>\n",
              "      <td>1320000.0</td>\n",
              "      <td>1320000.00</td>\n",
              "      <td>1320000.0</td>\n",
              "      <td>1320000.00</td>\n",
              "      <td>1320000.0</td>\n",
              "    </tr>\n",
              "    <tr>\n",
              "      <th rowspan=\"2\" valign=\"top\">Arizona</th>\n",
              "      <th>Brooklyn Nets</th>\n",
              "      <td>1.0</td>\n",
              "      <td>1335480.0</td>\n",
              "      <td>NaN</td>\n",
              "      <td>1335480.0</td>\n",
              "      <td>1335480.00</td>\n",
              "      <td>1335480.0</td>\n",
              "      <td>1335480.00</td>\n",
              "      <td>1335480.0</td>\n",
              "    </tr>\n",
              "    <tr>\n",
              "      <th>Cleveland Cavaliers</th>\n",
              "      <td>2.0</td>\n",
              "      <td>4570152.5</td>\n",
              "      <td>5.123521e+06</td>\n",
              "      <td>947276.0</td>\n",
              "      <td>2758714.25</td>\n",
              "      <td>4570152.5</td>\n",
              "      <td>6381590.75</td>\n",
              "      <td>8193029.0</td>\n",
              "    </tr>\n",
              "    <tr>\n",
              "      <th>...</th>\n",
              "      <th>...</th>\n",
              "      <td>...</td>\n",
              "      <td>...</td>\n",
              "      <td>...</td>\n",
              "      <td>...</td>\n",
              "      <td>...</td>\n",
              "      <td>...</td>\n",
              "      <td>...</td>\n",
              "      <td>...</td>\n",
              "    </tr>\n",
              "    <tr>\n",
              "      <th rowspan=\"3\" valign=\"top\">Wisconsin</th>\n",
              "      <th>Houston Rockets</th>\n",
              "      <td>1.0</td>\n",
              "      <td>1646400.0</td>\n",
              "      <td>NaN</td>\n",
              "      <td>1646400.0</td>\n",
              "      <td>1646400.00</td>\n",
              "      <td>1646400.0</td>\n",
              "      <td>1646400.00</td>\n",
              "      <td>1646400.0</td>\n",
              "    </tr>\n",
              "    <tr>\n",
              "      <th>Phoenix Suns</th>\n",
              "      <td>1.0</td>\n",
              "      <td>1035000.0</td>\n",
              "      <td>NaN</td>\n",
              "      <td>1035000.0</td>\n",
              "      <td>1035000.00</td>\n",
              "      <td>1035000.0</td>\n",
              "      <td>1035000.00</td>\n",
              "      <td>1035000.0</td>\n",
              "    </tr>\n",
              "    <tr>\n",
              "      <th>Sacramento Kings</th>\n",
              "      <td>1.0</td>\n",
              "      <td>525093.0</td>\n",
              "      <td>NaN</td>\n",
              "      <td>525093.0</td>\n",
              "      <td>525093.00</td>\n",
              "      <td>525093.0</td>\n",
              "      <td>525093.00</td>\n",
              "      <td>525093.0</td>\n",
              "    </tr>\n",
              "    <tr>\n",
              "      <th>Wyoming</th>\n",
              "      <th>Los Angeles Lakers</th>\n",
              "      <td>1.0</td>\n",
              "      <td>1155600.0</td>\n",
              "      <td>NaN</td>\n",
              "      <td>1155600.0</td>\n",
              "      <td>1155600.00</td>\n",
              "      <td>1155600.0</td>\n",
              "      <td>1155600.00</td>\n",
              "      <td>1155600.0</td>\n",
              "    </tr>\n",
              "    <tr>\n",
              "      <th>Xavier</th>\n",
              "      <th>San Antonio Spurs</th>\n",
              "      <td>1.0</td>\n",
              "      <td>1499187.0</td>\n",
              "      <td>NaN</td>\n",
              "      <td>1499187.0</td>\n",
              "      <td>1499187.00</td>\n",
              "      <td>1499187.0</td>\n",
              "      <td>1499187.00</td>\n",
              "      <td>1499187.0</td>\n",
              "    </tr>\n",
              "  </tbody>\n",
              "</table>\n",
              "<p>336 rows × 8 columns</p>\n",
              "</div>"
            ],
            "text/plain": [
              "                                count       mean  ...         75%        max\n",
              "College   Team                                    ...                       \n",
              "Alabama   Cleveland Cavaliers     1.0  2100000.0  ...  2100000.00  2100000.0\n",
              "          Memphis Grizzlies       1.0   845059.0  ...   845059.00   845059.0\n",
              "          New Orleans Pelicans    1.0  1320000.0  ...  1320000.00  1320000.0\n",
              "Arizona   Brooklyn Nets           1.0  1335480.0  ...  1335480.00  1335480.0\n",
              "          Cleveland Cavaliers     2.0  4570152.5  ...  6381590.75  8193029.0\n",
              "...                               ...        ...  ...         ...        ...\n",
              "Wisconsin Houston Rockets         1.0  1646400.0  ...  1646400.00  1646400.0\n",
              "          Phoenix Suns            1.0  1035000.0  ...  1035000.00  1035000.0\n",
              "          Sacramento Kings        1.0   525093.0  ...   525093.00   525093.0\n",
              "Wyoming   Los Angeles Lakers      1.0  1155600.0  ...  1155600.00  1155600.0\n",
              "Xavier    San Antonio Spurs       1.0  1499187.0  ...  1499187.00  1499187.0\n",
              "\n",
              "[336 rows x 8 columns]"
            ]
          },
          "metadata": {
            "tags": []
          },
          "execution_count": 176
        }
      ]
    },
    {
      "cell_type": "markdown",
      "metadata": {
        "id": "WO2ZQOmM2HPr"
      },
      "source": [
        "#### Filling missing values"
      ]
    },
    {
      "cell_type": "code",
      "metadata": {
        "id": "7-AOwqPY2JNC",
        "colab": {
          "base_uri": "https://localhost:8080/",
          "height": 446
        },
        "outputId": "a502a578-e6e4-4fa8-9f81-bd2932001f20"
      },
      "source": [
        "# Find all the missing values in the dataframe\r\n",
        "nbadf.isnull()"
      ],
      "execution_count": null,
      "outputs": [
        {
          "output_type": "execute_result",
          "data": {
            "text/html": [
              "<div>\n",
              "<style scoped>\n",
              "    .dataframe tbody tr th:only-of-type {\n",
              "        vertical-align: middle;\n",
              "    }\n",
              "\n",
              "    .dataframe tbody tr th {\n",
              "        vertical-align: top;\n",
              "    }\n",
              "\n",
              "    .dataframe thead th {\n",
              "        text-align: right;\n",
              "    }\n",
              "</style>\n",
              "<table border=\"1\" class=\"dataframe\">\n",
              "  <thead>\n",
              "    <tr style=\"text-align: right;\">\n",
              "      <th></th>\n",
              "      <th>Team</th>\n",
              "      <th>Number</th>\n",
              "      <th>Position</th>\n",
              "      <th>Age</th>\n",
              "      <th>Height</th>\n",
              "      <th>Weight</th>\n",
              "      <th>College</th>\n",
              "      <th>Salary</th>\n",
              "    </tr>\n",
              "    <tr>\n",
              "      <th>Name</th>\n",
              "      <th></th>\n",
              "      <th></th>\n",
              "      <th></th>\n",
              "      <th></th>\n",
              "      <th></th>\n",
              "      <th></th>\n",
              "      <th></th>\n",
              "      <th></th>\n",
              "    </tr>\n",
              "  </thead>\n",
              "  <tbody>\n",
              "    <tr>\n",
              "      <th>Avery Bradley</th>\n",
              "      <td>False</td>\n",
              "      <td>False</td>\n",
              "      <td>False</td>\n",
              "      <td>False</td>\n",
              "      <td>False</td>\n",
              "      <td>False</td>\n",
              "      <td>False</td>\n",
              "      <td>False</td>\n",
              "    </tr>\n",
              "    <tr>\n",
              "      <th>Jae Crowder</th>\n",
              "      <td>False</td>\n",
              "      <td>False</td>\n",
              "      <td>False</td>\n",
              "      <td>False</td>\n",
              "      <td>False</td>\n",
              "      <td>False</td>\n",
              "      <td>False</td>\n",
              "      <td>False</td>\n",
              "    </tr>\n",
              "    <tr>\n",
              "      <th>John Holland</th>\n",
              "      <td>False</td>\n",
              "      <td>False</td>\n",
              "      <td>False</td>\n",
              "      <td>False</td>\n",
              "      <td>False</td>\n",
              "      <td>False</td>\n",
              "      <td>False</td>\n",
              "      <td>True</td>\n",
              "    </tr>\n",
              "    <tr>\n",
              "      <th>R.J. Hunter</th>\n",
              "      <td>False</td>\n",
              "      <td>False</td>\n",
              "      <td>False</td>\n",
              "      <td>False</td>\n",
              "      <td>False</td>\n",
              "      <td>False</td>\n",
              "      <td>False</td>\n",
              "      <td>False</td>\n",
              "    </tr>\n",
              "    <tr>\n",
              "      <th>Jonas Jerebko</th>\n",
              "      <td>False</td>\n",
              "      <td>False</td>\n",
              "      <td>False</td>\n",
              "      <td>False</td>\n",
              "      <td>False</td>\n",
              "      <td>False</td>\n",
              "      <td>True</td>\n",
              "      <td>False</td>\n",
              "    </tr>\n",
              "    <tr>\n",
              "      <th>...</th>\n",
              "      <td>...</td>\n",
              "      <td>...</td>\n",
              "      <td>...</td>\n",
              "      <td>...</td>\n",
              "      <td>...</td>\n",
              "      <td>...</td>\n",
              "      <td>...</td>\n",
              "      <td>...</td>\n",
              "    </tr>\n",
              "    <tr>\n",
              "      <th>Shelvin Mack</th>\n",
              "      <td>False</td>\n",
              "      <td>False</td>\n",
              "      <td>False</td>\n",
              "      <td>False</td>\n",
              "      <td>False</td>\n",
              "      <td>False</td>\n",
              "      <td>False</td>\n",
              "      <td>False</td>\n",
              "    </tr>\n",
              "    <tr>\n",
              "      <th>Raul Neto</th>\n",
              "      <td>False</td>\n",
              "      <td>False</td>\n",
              "      <td>False</td>\n",
              "      <td>False</td>\n",
              "      <td>False</td>\n",
              "      <td>False</td>\n",
              "      <td>True</td>\n",
              "      <td>False</td>\n",
              "    </tr>\n",
              "    <tr>\n",
              "      <th>Tibor Pleiss</th>\n",
              "      <td>False</td>\n",
              "      <td>False</td>\n",
              "      <td>False</td>\n",
              "      <td>False</td>\n",
              "      <td>False</td>\n",
              "      <td>False</td>\n",
              "      <td>True</td>\n",
              "      <td>False</td>\n",
              "    </tr>\n",
              "    <tr>\n",
              "      <th>Jeff Withey</th>\n",
              "      <td>False</td>\n",
              "      <td>False</td>\n",
              "      <td>False</td>\n",
              "      <td>False</td>\n",
              "      <td>False</td>\n",
              "      <td>False</td>\n",
              "      <td>False</td>\n",
              "      <td>False</td>\n",
              "    </tr>\n",
              "    <tr>\n",
              "      <th>NaN</th>\n",
              "      <td>True</td>\n",
              "      <td>True</td>\n",
              "      <td>True</td>\n",
              "      <td>True</td>\n",
              "      <td>True</td>\n",
              "      <td>True</td>\n",
              "      <td>True</td>\n",
              "      <td>True</td>\n",
              "    </tr>\n",
              "  </tbody>\n",
              "</table>\n",
              "<p>458 rows × 8 columns</p>\n",
              "</div>"
            ],
            "text/plain": [
              "                Team  Number  Position    Age  Height  Weight  College  Salary\n",
              "Name                                                                          \n",
              "Avery Bradley  False   False     False  False   False   False    False   False\n",
              "Jae Crowder    False   False     False  False   False   False    False   False\n",
              "John Holland   False   False     False  False   False   False    False    True\n",
              "R.J. Hunter    False   False     False  False   False   False    False   False\n",
              "Jonas Jerebko  False   False     False  False   False   False     True   False\n",
              "...              ...     ...       ...    ...     ...     ...      ...     ...\n",
              "Shelvin Mack   False   False     False  False   False   False    False   False\n",
              "Raul Neto      False   False     False  False   False   False     True   False\n",
              "Tibor Pleiss   False   False     False  False   False   False     True   False\n",
              "Jeff Withey    False   False     False  False   False   False    False   False\n",
              "NaN             True    True      True   True    True    True     True    True\n",
              "\n",
              "[458 rows x 8 columns]"
            ]
          },
          "metadata": {
            "tags": []
          },
          "execution_count": 177
        }
      ]
    },
    {
      "cell_type": "code",
      "metadata": {
        "id": "wBBcvyk62bF-",
        "colab": {
          "base_uri": "https://localhost:8080/"
        },
        "outputId": "6f193d8f-b0c3-4577-ba6b-594b21f369bf"
      },
      "source": [
        "#Count them\r\n",
        "nbadf.isnull().sum().sum()"
      ],
      "execution_count": null,
      "outputs": [
        {
          "output_type": "execute_result",
          "data": {
            "text/plain": [
              "103"
            ]
          },
          "metadata": {
            "tags": []
          },
          "execution_count": 178
        }
      ]
    },
    {
      "cell_type": "code",
      "metadata": {
        "id": "KTX61Epl2jEX",
        "colab": {
          "base_uri": "https://localhost:8080/"
        },
        "outputId": "12be3e81-490f-4623-a121-a0c2e1d67200"
      },
      "source": [
        "#In a specific column? \r\n",
        "print(pd.isnull(nbadf[\"Team\"]))"
      ],
      "execution_count": null,
      "outputs": [
        {
          "output_type": "stream",
          "text": [
            "Name\n",
            "Avery Bradley    False\n",
            "Jae Crowder      False\n",
            "John Holland     False\n",
            "R.J. Hunter      False\n",
            "Jonas Jerebko    False\n",
            "                 ...  \n",
            "Shelvin Mack     False\n",
            "Raul Neto        False\n",
            "Tibor Pleiss     False\n",
            "Jeff Withey      False\n",
            "NaN               True\n",
            "Name: Team, Length: 458, dtype: bool\n"
          ],
          "name": "stdout"
        }
      ]
    },
    {
      "cell_type": "markdown",
      "metadata": {
        "id": "6GaDd20O24mm"
      },
      "source": [
        "####How to fill up missing values? \r\n"
      ]
    },
    {
      "cell_type": "code",
      "metadata": {
        "colab": {
          "base_uri": "https://localhost:8080/",
          "height": 258
        },
        "id": "i7jEyZ3f26xl",
        "outputId": "17074f8e-4008-4e8a-a421-9906815df602"
      },
      "source": [
        "dummy = {'First':[100, 90, np.nan, 95], \r\n",
        "        'Second': [30, 45, 56, np.nan], \r\n",
        "        'Third':[np.nan, 40, 80, 98]} \r\n",
        "  \r\n",
        "ddf = pd.DataFrame(dummy) \r\n",
        "\r\n",
        "print(ddf)\r\n",
        "# using notnull() function  \r\n",
        "ddf.notnull() "
      ],
      "execution_count": null,
      "outputs": [
        {
          "output_type": "stream",
          "text": [
            "   First  Second  Third\n",
            "0  100.0    30.0    NaN\n",
            "1   90.0    45.0   40.0\n",
            "2    NaN    56.0   80.0\n",
            "3   95.0     NaN   98.0\n"
          ],
          "name": "stdout"
        },
        {
          "output_type": "execute_result",
          "data": {
            "text/html": [
              "<div>\n",
              "<style scoped>\n",
              "    .dataframe tbody tr th:only-of-type {\n",
              "        vertical-align: middle;\n",
              "    }\n",
              "\n",
              "    .dataframe tbody tr th {\n",
              "        vertical-align: top;\n",
              "    }\n",
              "\n",
              "    .dataframe thead th {\n",
              "        text-align: right;\n",
              "    }\n",
              "</style>\n",
              "<table border=\"1\" class=\"dataframe\">\n",
              "  <thead>\n",
              "    <tr style=\"text-align: right;\">\n",
              "      <th></th>\n",
              "      <th>First</th>\n",
              "      <th>Second</th>\n",
              "      <th>Third</th>\n",
              "    </tr>\n",
              "  </thead>\n",
              "  <tbody>\n",
              "    <tr>\n",
              "      <th>0</th>\n",
              "      <td>True</td>\n",
              "      <td>True</td>\n",
              "      <td>False</td>\n",
              "    </tr>\n",
              "    <tr>\n",
              "      <th>1</th>\n",
              "      <td>True</td>\n",
              "      <td>True</td>\n",
              "      <td>True</td>\n",
              "    </tr>\n",
              "    <tr>\n",
              "      <th>2</th>\n",
              "      <td>False</td>\n",
              "      <td>True</td>\n",
              "      <td>True</td>\n",
              "    </tr>\n",
              "    <tr>\n",
              "      <th>3</th>\n",
              "      <td>True</td>\n",
              "      <td>False</td>\n",
              "      <td>True</td>\n",
              "    </tr>\n",
              "  </tbody>\n",
              "</table>\n",
              "</div>"
            ],
            "text/plain": [
              "   First  Second  Third\n",
              "0   True    True  False\n",
              "1   True    True   True\n",
              "2  False    True   True\n",
              "3   True   False   True"
            ]
          },
          "metadata": {
            "tags": []
          },
          "execution_count": 180
        }
      ]
    },
    {
      "cell_type": "code",
      "metadata": {
        "id": "mKXYsPNQ3boG"
      },
      "source": [
        "#Replace them with a specific value\r\n",
        "ddf.fillna(0)\r\n"
      ],
      "execution_count": null,
      "outputs": []
    },
    {
      "cell_type": "code",
      "metadata": {
        "colab": {
          "base_uri": "https://localhost:8080/",
          "height": 171
        },
        "id": "nyOjPDmu3WJ3",
        "outputId": "44b25908-e8e6-456a-888c-915979fcff01"
      },
      "source": [
        "#Replace with forward fill ffill()\r\n",
        "ddf.ffill()"
      ],
      "execution_count": null,
      "outputs": [
        {
          "output_type": "execute_result",
          "data": {
            "text/html": [
              "<div>\n",
              "<style scoped>\n",
              "    .dataframe tbody tr th:only-of-type {\n",
              "        vertical-align: middle;\n",
              "    }\n",
              "\n",
              "    .dataframe tbody tr th {\n",
              "        vertical-align: top;\n",
              "    }\n",
              "\n",
              "    .dataframe thead th {\n",
              "        text-align: right;\n",
              "    }\n",
              "</style>\n",
              "<table border=\"1\" class=\"dataframe\">\n",
              "  <thead>\n",
              "    <tr style=\"text-align: right;\">\n",
              "      <th></th>\n",
              "      <th>First</th>\n",
              "      <th>Second</th>\n",
              "      <th>Third</th>\n",
              "    </tr>\n",
              "  </thead>\n",
              "  <tbody>\n",
              "    <tr>\n",
              "      <th>0</th>\n",
              "      <td>100.0</td>\n",
              "      <td>30.0</td>\n",
              "      <td>NaN</td>\n",
              "    </tr>\n",
              "    <tr>\n",
              "      <th>1</th>\n",
              "      <td>90.0</td>\n",
              "      <td>45.0</td>\n",
              "      <td>40.0</td>\n",
              "    </tr>\n",
              "    <tr>\n",
              "      <th>2</th>\n",
              "      <td>90.0</td>\n",
              "      <td>56.0</td>\n",
              "      <td>80.0</td>\n",
              "    </tr>\n",
              "    <tr>\n",
              "      <th>3</th>\n",
              "      <td>95.0</td>\n",
              "      <td>56.0</td>\n",
              "      <td>98.0</td>\n",
              "    </tr>\n",
              "  </tbody>\n",
              "</table>\n",
              "</div>"
            ],
            "text/plain": [
              "   First  Second  Third\n",
              "0  100.0    30.0    NaN\n",
              "1   90.0    45.0   40.0\n",
              "2   90.0    56.0   80.0\n",
              "3   95.0    56.0   98.0"
            ]
          },
          "metadata": {
            "tags": []
          },
          "execution_count": 182
        }
      ]
    },
    {
      "cell_type": "code",
      "metadata": {
        "id": "LeL2bv7g3nSH",
        "colab": {
          "base_uri": "https://localhost:8080/",
          "height": 171
        },
        "outputId": "c038dfef-48f0-4086-a3aa-ead602f514b2"
      },
      "source": [
        "#replace with backward fill()\r\n",
        "ddf.bfill()"
      ],
      "execution_count": null,
      "outputs": [
        {
          "output_type": "execute_result",
          "data": {
            "text/html": [
              "<div>\n",
              "<style scoped>\n",
              "    .dataframe tbody tr th:only-of-type {\n",
              "        vertical-align: middle;\n",
              "    }\n",
              "\n",
              "    .dataframe tbody tr th {\n",
              "        vertical-align: top;\n",
              "    }\n",
              "\n",
              "    .dataframe thead th {\n",
              "        text-align: right;\n",
              "    }\n",
              "</style>\n",
              "<table border=\"1\" class=\"dataframe\">\n",
              "  <thead>\n",
              "    <tr style=\"text-align: right;\">\n",
              "      <th></th>\n",
              "      <th>First</th>\n",
              "      <th>Second</th>\n",
              "      <th>Third</th>\n",
              "    </tr>\n",
              "  </thead>\n",
              "  <tbody>\n",
              "    <tr>\n",
              "      <th>0</th>\n",
              "      <td>100.0</td>\n",
              "      <td>30.0</td>\n",
              "      <td>40.0</td>\n",
              "    </tr>\n",
              "    <tr>\n",
              "      <th>1</th>\n",
              "      <td>90.0</td>\n",
              "      <td>45.0</td>\n",
              "      <td>40.0</td>\n",
              "    </tr>\n",
              "    <tr>\n",
              "      <th>2</th>\n",
              "      <td>95.0</td>\n",
              "      <td>56.0</td>\n",
              "      <td>80.0</td>\n",
              "    </tr>\n",
              "    <tr>\n",
              "      <th>3</th>\n",
              "      <td>95.0</td>\n",
              "      <td>NaN</td>\n",
              "      <td>98.0</td>\n",
              "    </tr>\n",
              "  </tbody>\n",
              "</table>\n",
              "</div>"
            ],
            "text/plain": [
              "   First  Second  Third\n",
              "0  100.0    30.0   40.0\n",
              "1   90.0    45.0   40.0\n",
              "2   95.0    56.0   80.0\n",
              "3   95.0     NaN   98.0"
            ]
          },
          "metadata": {
            "tags": []
          },
          "execution_count": 183
        }
      ]
    },
    {
      "cell_type": "code",
      "metadata": {
        "id": "vWAmYY8b39NV",
        "colab": {
          "base_uri": "https://localhost:8080/",
          "height": 79
        },
        "outputId": "1ccf8244-9d6c-4980-8eb6-4414bfc18b5f"
      },
      "source": [
        "#If you want to drop the rows with atleast one missing value\r\n",
        "ddf.dropna()\r\n"
      ],
      "execution_count": null,
      "outputs": [
        {
          "output_type": "execute_result",
          "data": {
            "text/html": [
              "<div>\n",
              "<style scoped>\n",
              "    .dataframe tbody tr th:only-of-type {\n",
              "        vertical-align: middle;\n",
              "    }\n",
              "\n",
              "    .dataframe tbody tr th {\n",
              "        vertical-align: top;\n",
              "    }\n",
              "\n",
              "    .dataframe thead th {\n",
              "        text-align: right;\n",
              "    }\n",
              "</style>\n",
              "<table border=\"1\" class=\"dataframe\">\n",
              "  <thead>\n",
              "    <tr style=\"text-align: right;\">\n",
              "      <th></th>\n",
              "      <th>First</th>\n",
              "      <th>Second</th>\n",
              "      <th>Third</th>\n",
              "    </tr>\n",
              "  </thead>\n",
              "  <tbody>\n",
              "    <tr>\n",
              "      <th>1</th>\n",
              "      <td>90.0</td>\n",
              "      <td>45.0</td>\n",
              "      <td>40.0</td>\n",
              "    </tr>\n",
              "  </tbody>\n",
              "</table>\n",
              "</div>"
            ],
            "text/plain": [
              "   First  Second  Third\n",
              "1   90.0    45.0   40.0"
            ]
          },
          "metadata": {
            "tags": []
          },
          "execution_count": 184
        }
      ]
    },
    {
      "cell_type": "code",
      "metadata": {
        "id": "gNBuiXyQ4Or4",
        "colab": {
          "base_uri": "https://localhost:8080/",
          "height": 171
        },
        "outputId": "2f4a7d46-6966-4e9f-87e2-cfec421278a9"
      },
      "source": [
        "#Drop a row with all the missing values\r\n",
        "ddf.dropna(how='all')"
      ],
      "execution_count": null,
      "outputs": [
        {
          "output_type": "execute_result",
          "data": {
            "text/html": [
              "<div>\n",
              "<style scoped>\n",
              "    .dataframe tbody tr th:only-of-type {\n",
              "        vertical-align: middle;\n",
              "    }\n",
              "\n",
              "    .dataframe tbody tr th {\n",
              "        vertical-align: top;\n",
              "    }\n",
              "\n",
              "    .dataframe thead th {\n",
              "        text-align: right;\n",
              "    }\n",
              "</style>\n",
              "<table border=\"1\" class=\"dataframe\">\n",
              "  <thead>\n",
              "    <tr style=\"text-align: right;\">\n",
              "      <th></th>\n",
              "      <th>First</th>\n",
              "      <th>Second</th>\n",
              "      <th>Third</th>\n",
              "    </tr>\n",
              "  </thead>\n",
              "  <tbody>\n",
              "    <tr>\n",
              "      <th>0</th>\n",
              "      <td>100.0</td>\n",
              "      <td>30.0</td>\n",
              "      <td>NaN</td>\n",
              "    </tr>\n",
              "    <tr>\n",
              "      <th>1</th>\n",
              "      <td>90.0</td>\n",
              "      <td>45.0</td>\n",
              "      <td>40.0</td>\n",
              "    </tr>\n",
              "    <tr>\n",
              "      <th>2</th>\n",
              "      <td>NaN</td>\n",
              "      <td>56.0</td>\n",
              "      <td>80.0</td>\n",
              "    </tr>\n",
              "    <tr>\n",
              "      <th>3</th>\n",
              "      <td>95.0</td>\n",
              "      <td>NaN</td>\n",
              "      <td>98.0</td>\n",
              "    </tr>\n",
              "  </tbody>\n",
              "</table>\n",
              "</div>"
            ],
            "text/plain": [
              "   First  Second  Third\n",
              "0  100.0    30.0    NaN\n",
              "1   90.0    45.0   40.0\n",
              "2    NaN    56.0   80.0\n",
              "3   95.0     NaN   98.0"
            ]
          },
          "metadata": {
            "tags": []
          },
          "execution_count": 185
        }
      ]
    },
    {
      "cell_type": "code",
      "metadata": {
        "id": "s-3thf3d4ayS",
        "colab": {
          "base_uri": "https://localhost:8080/",
          "height": 155
        },
        "outputId": "2f16d5da-72f0-44e9-a768-f3c9ca6a6909"
      },
      "source": [
        "#What about columns\r\n",
        "#drop a column which has at least 1 missing value\r\n",
        "\r\n",
        "ddf.dropna(axis=1)"
      ],
      "execution_count": null,
      "outputs": [
        {
          "output_type": "execute_result",
          "data": {
            "text/html": [
              "<div>\n",
              "<style scoped>\n",
              "    .dataframe tbody tr th:only-of-type {\n",
              "        vertical-align: middle;\n",
              "    }\n",
              "\n",
              "    .dataframe tbody tr th {\n",
              "        vertical-align: top;\n",
              "    }\n",
              "\n",
              "    .dataframe thead th {\n",
              "        text-align: right;\n",
              "    }\n",
              "</style>\n",
              "<table border=\"1\" class=\"dataframe\">\n",
              "  <thead>\n",
              "    <tr style=\"text-align: right;\">\n",
              "      <th></th>\n",
              "    </tr>\n",
              "  </thead>\n",
              "  <tbody>\n",
              "    <tr>\n",
              "      <th>0</th>\n",
              "    </tr>\n",
              "    <tr>\n",
              "      <th>1</th>\n",
              "    </tr>\n",
              "    <tr>\n",
              "      <th>2</th>\n",
              "    </tr>\n",
              "    <tr>\n",
              "      <th>3</th>\n",
              "    </tr>\n",
              "  </tbody>\n",
              "</table>\n",
              "</div>"
            ],
            "text/plain": [
              "Empty DataFrame\n",
              "Columns: []\n",
              "Index: [0, 1, 2, 3]"
            ]
          },
          "metadata": {
            "tags": []
          },
          "execution_count": 186
        }
      ]
    },
    {
      "cell_type": "markdown",
      "metadata": {
        "id": "tk74bECHt04V"
      },
      "source": [
        "#### Class Exercises"
      ]
    },
    {
      "cell_type": "markdown",
      "metadata": {
        "id": "47Kn5rFM4lSQ"
      },
      "source": [
        "#### Q1. Load the 'titanic.csv' file and load it into a dataframe "
      ]
    },
    {
      "cell_type": "code",
      "metadata": {
        "id": "DsrcO2-7t22U",
        "colab": {
          "resources": {
            "http://localhost:8080/nbextensions/google.colab/files.js": {
              "data": "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",
              "ok": true,
              "headers": [
                [
                  "content-type",
                  "application/javascript"
                ]
              ],
              "status": 200,
              "status_text": ""
            }
          },
          "base_uri": "https://localhost:8080/",
          "height": 73
        },
        "outputId": "21122656-a69a-4acf-d8ca-44d3d39efd46"
      },
      "source": [
        "from google.colab import files\r\n",
        "uploaded = files.upload()\r\n",
        "\r\n"
      ],
      "execution_count": null,
      "outputs": [
        {
          "output_type": "display_data",
          "data": {
            "text/html": [
              "\n",
              "     <input type=\"file\" id=\"files-f86632ca-fc5a-4b40-8dae-6f9d439a5fab\" name=\"files[]\" multiple disabled\n",
              "        style=\"border:none\" />\n",
              "     <output id=\"result-f86632ca-fc5a-4b40-8dae-6f9d439a5fab\">\n",
              "      Upload widget is only available when the cell has been executed in the\n",
              "      current browser session. Please rerun this cell to enable.\n",
              "      </output>\n",
              "      <script src=\"/nbextensions/google.colab/files.js\"></script> "
            ],
            "text/plain": [
              "<IPython.core.display.HTML object>"
            ]
          },
          "metadata": {
            "tags": []
          }
        },
        {
          "output_type": "stream",
          "text": [
            "Saving titanic.csv to titanic (1).csv\n"
          ],
          "name": "stdout"
        }
      ]
    },
    {
      "cell_type": "code",
      "metadata": {
        "id": "1VnKkncr6V-A",
        "colab": {
          "base_uri": "https://localhost:8080/"
        },
        "outputId": "0bf6bf89-cd27-4eb9-f5f9-1001f55d9f4d"
      },
      "source": [
        "import pandas as pd\r\n",
        "tdf = pd.read_csv(\"titanic.csv\")\r\n",
        "print(tdf)"
      ],
      "execution_count": null,
      "outputs": [
        {
          "output_type": "stream",
          "text": [
            "     survived  pclass  gender   age  ...  deck  embark_town  alive  alone\n",
            "0           0       3    male  22.0  ...   NaN  Southampton     no  False\n",
            "1           1       1  female  38.0  ...     C    Cherbourg    yes  False\n",
            "2           1       3  female  26.0  ...   NaN  Southampton    yes   True\n",
            "3           1       1  female  35.0  ...     C  Southampton    yes  False\n",
            "4           0       3    male  35.0  ...   NaN  Southampton     no   True\n",
            "..        ...     ...     ...   ...  ...   ...          ...    ...    ...\n",
            "886         0       2    male  27.0  ...   NaN  Southampton     no   True\n",
            "887         1       1  female  19.0  ...     B  Southampton    yes   True\n",
            "888         0       3  female   NaN  ...   NaN  Southampton     no  False\n",
            "889         1       1    male  26.0  ...     C    Cherbourg    yes   True\n",
            "890         0       3    male  32.0  ...   NaN   Queenstown     no   True\n",
            "\n",
            "[891 rows x 15 columns]\n"
          ],
          "name": "stdout"
        }
      ]
    },
    {
      "cell_type": "markdown",
      "metadata": {
        "id": "2_ty_bx66a_-"
      },
      "source": [
        "####Q2. Find the summary statistics and then print the names of columns"
      ]
    },
    {
      "cell_type": "code",
      "metadata": {
        "colab": {
          "base_uri": "https://localhost:8080/"
        },
        "id": "7qNnat0J6aQv",
        "outputId": "082b6e86-c3fe-443c-a1a1-4e41c3add1c8"
      },
      "source": [
        "tdf.describe()\r\n",
        "#tdf.describe(include='all')\r\n",
        "print(tdf.columns)\r\n",
        "\r\n"
      ],
      "execution_count": null,
      "outputs": [
        {
          "output_type": "stream",
          "text": [
            "Index(['survived', 'pclass', 'sex', 'age', 'sibsp', 'parch', 'fare',\n",
            "       'embarked', 'class', 'who', 'adult_male', 'deck', 'embark_town',\n",
            "       'alive', 'alone'],\n",
            "      dtype='object')\n",
            "891\n",
            "15\n"
          ],
          "name": "stdout"
        }
      ]
    },
    {
      "cell_type": "markdown",
      "metadata": {
        "id": "cjrNQ3g78dqm"
      },
      "source": [
        "####Q3. Find the number of rows and columns in this dataset\r\n"
      ]
    },
    {
      "cell_type": "code",
      "metadata": {
        "id": "X5hWXM1t8hdE"
      },
      "source": [
        "#Approach-1\r\n",
        "rows=len(tdf)\r\n",
        "cols=len(tdf.columns)\r\n",
        "print(rows)\r\n",
        "print(cols)\r\n",
        "\r\n",
        "'''#Approach-2\r\n",
        "\r\n",
        "rows = len(tdf.axes[0]) \r\n",
        "cols = len(tdf.axes[1]) \r\n",
        "print(rows)\r\n",
        "print(cols)'''\r\n"
      ],
      "execution_count": null,
      "outputs": []
    },
    {
      "cell_type": "markdown",
      "metadata": {
        "id": "2Z0vyCOC8whK"
      },
      "source": [
        "#### Q4. Find the number of rows that have atleast one missing value\r\n",
        "\r\n"
      ]
    },
    {
      "cell_type": "code",
      "metadata": {
        "id": "oi5YyQli8v7z"
      },
      "source": [
        "#Total number of missing values\r\n",
        "print(tdf.isnull().sum().sum()) #For the entire dataframe\r\n",
        "\r\n",
        "#Check how the data looks like\r\n",
        "print(tdf.isnull())\r\n",
        "\r\n",
        "#Across columns\r\n",
        "print(tdf.isnull().sum())\r\n",
        "\r\n",
        "#Across rows \r\n",
        "#for i in range(len(tdf)):\r\n",
        "#  print(tdf.iloc[i].isnull().sum())\r\n",
        "\r\n",
        "#Now total number of rows with atleast 1 null value\r\n",
        "nullrows=0\r\n",
        "for i in range(len(tdf)):\r\n",
        "  if (tdf.iloc[i].isnull().sum())>0:\r\n",
        "    nullrows+=1\r\n",
        "\r\n",
        "print(nullrows)"
      ],
      "execution_count": null,
      "outputs": []
    },
    {
      "cell_type": "markdown",
      "metadata": {
        "id": "-jc_LCpv9OUQ"
      },
      "source": [
        "####Q5. Group by those who survived and class. Then find their maximum age in that group. "
      ]
    },
    {
      "cell_type": "code",
      "metadata": {
        "id": "VTmNPSyx9cob",
        "colab": {
          "base_uri": "https://localhost:8080/"
        },
        "outputId": "02616c89-54c5-4537-aee2-61608791b4c6"
      },
      "source": [
        "#tdf.groupby(['survived', 'class'])['age'].describe()\r\n",
        "tdf.groupby(['survived', 'class'])['age'].max()"
      ],
      "execution_count": null,
      "outputs": [
        {
          "output_type": "execute_result",
          "data": {
            "text/plain": [
              "survived  class \n",
              "0         First     71.0\n",
              "          Second    70.0\n",
              "          Third     74.0\n",
              "1         First     80.0\n",
              "          Second    62.0\n",
              "          Third     63.0\n",
              "Name: age, dtype: float64"
            ]
          },
          "metadata": {
            "tags": []
          },
          "execution_count": 23
        }
      ]
    },
    {
      "cell_type": "code",
      "metadata": {
        "colab": {
          "base_uri": "https://localhost:8080/"
        },
        "id": "lt-BzHO1JNli",
        "outputId": "52053cc3-5eca-4b44-bbcd-b6a7af5433bb"
      },
      "source": [
        "#How many 'woman' and 'child' survived\r\n",
        "\r\n",
        "print((tdf.loc[tdf['survived']==1]['who']=='woman').sum())\r\n",
        "print((tdf.loc[tdf['survived']==1]['who']=='child').sum())\r\n",
        "#tdf.groupby(['survived', 'who']).describe()"
      ],
      "execution_count": null,
      "outputs": [
        {
          "output_type": "stream",
          "text": [
            "205\n",
            "49\n"
          ],
          "name": "stdout"
        }
      ]
    },
    {
      "cell_type": "code",
      "metadata": {
        "colab": {
          "base_uri": "https://localhost:8080/"
        },
        "id": "G6SBD4lhMvUn",
        "outputId": "a1f5bf14-c0de-4f38-b345-69bc3b5b09c3"
      },
      "source": [
        "tdf.isnull().sum().sum()"
      ],
      "execution_count": null,
      "outputs": [
        {
          "output_type": "execute_result",
          "data": {
            "text/plain": [
              "869"
            ]
          },
          "metadata": {
            "tags": []
          },
          "execution_count": 41
        }
      ]
    },
    {
      "cell_type": "code",
      "metadata": {
        "colab": {
          "base_uri": "https://localhost:8080/"
        },
        "id": "f-P7RjdjMyQK",
        "outputId": "7e6faa91-6495-4aae-ca7e-401509544760"
      },
      "source": [
        "tdf['age'].sum()==21205.17"
      ],
      "execution_count": null,
      "outputs": [
        {
          "output_type": "execute_result",
          "data": {
            "text/plain": [
              "True"
            ]
          },
          "metadata": {
            "tags": []
          },
          "execution_count": 43
        }
      ]
    },
    {
      "cell_type": "code",
      "metadata": {
        "colab": {
          "base_uri": "https://localhost:8080/"
        },
        "id": "Nw-pfDe1OHVY",
        "outputId": "df9cca10-1526-4fd1-9166-25c66c4fbab5"
      },
      "source": [
        "gpd=tdf.groupby(['embark_town', 'gender'])\r\n",
        "#print(gpd.describe())\r\n",
        "print(gpd.get_group(('Southampton','female')).sum())"
      ],
      "execution_count": null,
      "outputs": [
        {
          "output_type": "stream",
          "text": [
            "survived                                                     140\n",
            "pclass                                                       446\n",
            "gender         femalefemalefemalefemalefemalefemalefemalefema...\n",
            "age                                                       5165.5\n",
            "sibsp                                                        170\n",
            "parch                                                        160\n",
            "fare                                                     7864.41\n",
            "embarked       SSSSSSSSSSSSSSSSSSSSSSSSSSSSSSSSSSSSSSSSSSSSSS...\n",
            "class          ThirdFirstThirdThirdFirstThirdSecondThirdThird...\n",
            "who            womanwomanwomanchildwomanchildwomanwomanchildw...\n",
            "adult_male                                                     0\n",
            "embark_town    SouthamptonSouthamptonSouthamptonSouthamptonSo...\n",
            "alive          yesyesyesyesyesnoyesnonoyesnonononoyesyesyesye...\n",
            "alone                                                         72\n",
            "dtype: object\n"
          ],
          "name": "stdout"
        }
      ]
    }
  ]
}