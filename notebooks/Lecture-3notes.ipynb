{
  "nbformat": 4,
  "nbformat_minor": 0,
  "metadata": {
    "colab": {
      "name": "IntrotoML-Lecture-3.ipynb",
      "provenance": [],
      "collapsed_sections": [
        "fWwmki5USMgb",
        "2ZEsvp3KSR54",
        "V-ZW6LXxWOn6",
        "RGo9iRBE7yVn",
        "nOkLYJDa8Phf",
        "jq6TLgjNPKVZ"
      ]
    },
    "kernelspec": {
      "name": "python3",
      "display_name": "Python 3"
    }
  },
  "cells": [
    {
      "cell_type": "markdown",
      "metadata": {
        "id": "JaNFKCVCTCJx"
      },
      "source": [
        "####Mini Quiz"
      ]
    },
    {
      "cell_type": "code",
      "metadata": {
        "colab": {
          "base_uri": "https://localhost:8080/"
        },
        "id": "qAUBINdxS-l_",
        "outputId": "5954e8f7-3606-40ea-97db-2c60c348428f"
      },
      "source": [
        "#Q1.\r\n",
        "l1= [3, 4, 5, 20, 5, 25, 1, 3]\r\n",
        "l1.pop(1)\r\n",
        "print(l1)"
      ],
      "execution_count": 35,
      "outputs": [
        {
          "output_type": "stream",
          "text": [
            "[3, 5, 20, 5, 25, 1, 3]\n"
          ],
          "name": "stdout"
        }
      ]
    },
    {
      "cell_type": "code",
      "metadata": {
        "colab": {
          "base_uri": "https://localhost:8080/"
        },
        "id": "ZZbT8qRJTRzt",
        "outputId": "70bf29b2-a143-468a-abff-fd64c1977d8b"
      },
      "source": [
        "#Q2. \r\n",
        "str1=\"machinElearning\"\r\n",
        "print(len([ch for ch in str1.lower() if ch in ['a', 'e', 'i', 'o', 'u']]))"
      ],
      "execution_count": 36,
      "outputs": [
        {
          "output_type": "stream",
          "text": [
            "6\n"
          ],
          "name": "stdout"
        }
      ]
    },
    {
      "cell_type": "code",
      "metadata": {
        "id": "8IKsLtfsrT41"
      },
      "source": [
        ""
      ],
      "execution_count": null,
      "outputs": []
    },
    {
      "cell_type": "markdown",
      "metadata": {
        "id": "fWwmki5USMgb"
      },
      "source": [
        "#### Lecture notes\r\n",
        "\r\n"
      ]
    },
    {
      "cell_type": "code",
      "metadata": {
        "id": "GdBLisi0Prtw"
      },
      "source": [
        "def myFunction(x):\r\n",
        "  print(x)\r\n",
        "  x=[1,2,3]\r\n",
        "  print(x)\r\n",
        "\r\n",
        "a=[3,4,5]\r\n",
        "print(a)\r\n",
        "myFunction(a)\r\n",
        "print(a)"
      ],
      "execution_count": null,
      "outputs": []
    },
    {
      "cell_type": "code",
      "metadata": {
        "id": "t1FspsQNQLcC"
      },
      "source": [
        "def myFunction(x):\r\n",
        "  x=20\r\n",
        "\r\n",
        "a=10\r\n",
        "print(a)\r\n",
        "myFunction(a)\r\n",
        "print(a)"
      ],
      "execution_count": null,
      "outputs": []
    },
    {
      "cell_type": "code",
      "metadata": {
        "id": "Nnzo8oq3QScu"
      },
      "source": [
        "def swap(x, y):\r\n",
        "  temp=x\r\n",
        "  x=y\r\n",
        "  y=temp\r\n",
        "\r\n",
        "x=2\r\n",
        "y=3\r\n",
        "swap(x,y)\r\n",
        "print(x)\r\n",
        "print(y)"
      ],
      "execution_count": null,
      "outputs": []
    },
    {
      "cell_type": "code",
      "metadata": {
        "id": "Lg5Viqh6OD7T"
      },
      "source": [
        "def myFunction(x, y=50):\r\n",
        "  print(x)\r\n",
        "  print(y)\r\n",
        "\r\n",
        "myFunction(10)"
      ],
      "execution_count": null,
      "outputs": []
    },
    {
      "cell_type": "markdown",
      "metadata": {
        "id": "2ZEsvp3KSR54"
      },
      "source": [
        "####Q3. for loop Example"
      ]
    },
    {
      "cell_type": "code",
      "metadata": {
        "colab": {
          "base_uri": "https://localhost:8080/",
          "height": 53
        },
        "id": "qMK-bUeiSRLd",
        "outputId": "da4c34d7-8dad-45af-f930-453b4a384486"
      },
      "source": [
        "l1 = [1, 2, 3, 4, 5]\r\n",
        "l2=[]\r\n",
        "#for i in l1:\r\n",
        "for i in range(len(l1)): #range(start, stop, steps)\r\n",
        "  l2.append(l1[i]**2)\r\n",
        "  #l2.append(i**2)\r\n",
        "\r\n",
        "\r\n",
        "print(l2)\r\n",
        "\r\n",
        "'''\r\n",
        "l2 = [n**2 for n in l1]\r\n",
        "print(l2)\r\n",
        "'''"
      ],
      "execution_count": 41,
      "outputs": [
        {
          "output_type": "stream",
          "text": [
            "[1, 4, 9, 16, 25]\n"
          ],
          "name": "stdout"
        },
        {
          "output_type": "execute_result",
          "data": {
            "application/vnd.google.colaboratory.intrinsic+json": {
              "type": "string"
            },
            "text/plain": [
              "'\\nl2 = [n**2 for n in l1]\\nprint(l2)\\n'"
            ]
          },
          "metadata": {
            "tags": []
          },
          "execution_count": 41
        }
      ]
    },
    {
      "cell_type": "markdown",
      "metadata": {
        "id": "iRMPHPj2SkEp"
      },
      "source": [
        "####Q4. While loop Example"
      ]
    },
    {
      "cell_type": "code",
      "metadata": {
        "colab": {
          "base_uri": "https://localhost:8080/"
        },
        "id": "Ty4yUKCaSjhw",
        "outputId": "3df15fc0-da01-439e-a405-b1726d08cd80"
      },
      "source": [
        "#str1[start:stop]\r\n",
        "\r\n",
        "str1 = \"machine\"\r\n",
        "i=len(str1)\r\n",
        "while i>0:\r\n",
        "  print(str1[0:i])\r\n",
        "  i-=1\r\n"
      ],
      "execution_count": 42,
      "outputs": [
        {
          "output_type": "stream",
          "text": [
            "machine\n",
            "machin\n",
            "machi\n",
            "mach\n",
            "mac\n",
            "ma\n",
            "m\n",
            "\n"
          ],
          "name": "stdout"
        }
      ]
    },
    {
      "cell_type": "code",
      "metadata": {
        "id": "kqUzS5Wp1iEm"
      },
      "source": [
        "def myFun(x):\r\n",
        "  x[0]=20\r\n",
        "\r\n",
        "lst = [10, 20, 30]\r\n",
        "print(lst)\r\n",
        "myFun(lst)\r\n",
        "print(lst)"
      ],
      "execution_count": null,
      "outputs": []
    },
    {
      "cell_type": "markdown",
      "metadata": {
        "id": "2eXpuf7SUIvm"
      },
      "source": [
        "#### Q5. Class Exercise\r\n",
        " "
      ]
    },
    {
      "cell_type": "code",
      "metadata": {
        "id": "ynxg1sfdUSZh"
      },
      "source": [
        "l1=[1,2,3,4,5,6,7,8,9,10]\r\n",
        "#Find the maximum element \r\n",
        "\r\n",
        "l2=[]\r\n",
        "maxval=-1\r\n",
        "for i in range(len(l1)):\r\n",
        "  if l1[i]>maxval:\r\n",
        "    maxval=l1[i]\r\n",
        "  l2.append(maxval)\r\n",
        "\r\n",
        "print(l2)"
      ],
      "execution_count": null,
      "outputs": []
    },
    {
      "cell_type": "code",
      "metadata": {
        "id": "Yir0mUMgy2x4"
      },
      "source": [
        ""
      ],
      "execution_count": null,
      "outputs": []
    },
    {
      "cell_type": "markdown",
      "metadata": {
        "id": "NX0FqLO2WJkB"
      },
      "source": [
        "####Q6. Functions"
      ]
    },
    {
      "cell_type": "code",
      "metadata": {
        "colab": {
          "base_uri": "https://localhost:8080/"
        },
        "id": "Vufq_bCBWMmx",
        "outputId": "5aee6292-a0b3-413a-beea-0d59417ba0f7"
      },
      "source": [
        "def Square(x): \r\n",
        "  return(x**2)\r\n",
        "print(Square(3))\r\n",
        "\r\n",
        "g=lambda x:x**2\r\n",
        "print(g(3))"
      ],
      "execution_count": 46,
      "outputs": [
        {
          "output_type": "stream",
          "text": [
            "9\n",
            "9\n"
          ],
          "name": "stdout"
        }
      ]
    },
    {
      "cell_type": "markdown",
      "metadata": {
        "id": "V-ZW6LXxWOn6"
      },
      "source": [
        "#### Q7. Lambda function"
      ]
    },
    {
      "cell_type": "code",
      "metadata": {
        "colab": {
          "base_uri": "https://localhost:8080/"
        },
        "id": "9xuDEcSXWQ3M",
        "outputId": "3eb410d0-c2f9-4aa9-92de-a9eb4515d791"
      },
      "source": [
        "#y=8 #lambda variables:expression\r\n",
        "z = lambda x, y:[x*y, (x+y)]\r\n",
        "print(z(6,8))"
      ],
      "execution_count": 50,
      "outputs": [
        {
          "output_type": "stream",
          "text": [
            "[48, 14]\n"
          ],
          "name": "stdout"
        }
      ]
    },
    {
      "cell_type": "markdown",
      "metadata": {
        "id": "dacOQegT4UVf"
      },
      "source": [
        "####Q8. Create a dictionary based on frequency and remove a key\r\n"
      ]
    },
    {
      "cell_type": "code",
      "metadata": {
        "id": "rSUccg148rrM"
      },
      "source": [
        "keywords = ['hello', 'I', 'am', 'fine', 'but', 'fine', 'is', 'fine', 'hello', 'to', 'you', 'fine']\r\n",
        "d1={}\r\n",
        "for eachword in keywords:\r\n",
        "  if eachword in d1.keys():\r\n",
        "    d1[eachword]+=1\r\n",
        "  else\r\n",
        "    d1[eachword]=1\r\n",
        "\r\n",
        "print(d1)\r\n",
        "\r\n",
        "#keys=(d1.keys()) #returns an iterator instead of a list\r\n",
        "keys=list(d1.keys()) #make a copy of the keys \r\n",
        "for eachkey in keys:\r\n",
        "  if d1[eachkey]==1:\r\n",
        "    del d1[eachkey]\r\n",
        "\r\n",
        "print(d1)"
      ],
      "execution_count": null,
      "outputs": []
    },
    {
      "cell_type": "markdown",
      "metadata": {
        "id": "mmVE2gxi6aKo"
      },
      "source": [
        "####Q9. Write a comprehensive code to initialize a dictionary"
      ]
    },
    {
      "cell_type": "code",
      "metadata": {
        "colab": {
          "base_uri": "https://localhost:8080/"
        },
        "id": "Tln8emCw7eCX",
        "outputId": "bc047cbe-fc10-4d78-fd37-90dfa5b28425"
      },
      "source": [
        "d1 = {i:i**2 for i in range(1, 11)}\r\n",
        "print(d1)\r\n",
        "\r\n",
        "keys[l1[i]]=l2[i]"
      ],
      "execution_count": 51,
      "outputs": [
        {
          "output_type": "stream",
          "text": [
            "{1: 1, 2: 4, 3: 9, 4: 16, 5: 25, 6: 36, 7: 49, 8: 64, 9: 81, 10: 100}\n"
          ],
          "name": "stdout"
        }
      ]
    },
    {
      "cell_type": "markdown",
      "metadata": {
        "id": "RGo9iRBE7yVn"
      },
      "source": [
        "####Q10. Write a lambda function to multiple two numbers"
      ]
    },
    {
      "cell_type": "code",
      "metadata": {
        "id": "ASFkxopc7zFw"
      },
      "source": [
        "g = lambda x, y : x*y\r\n",
        "print(g(7, 8))"
      ],
      "execution_count": null,
      "outputs": []
    },
    {
      "cell_type": "markdown",
      "metadata": {
        "id": "nOkLYJDa8Phf"
      },
      "source": [
        "####Q11. Find all the duplicate characters in a string \"machinelearning\"\r\n",
        "\r\n",
        "\r\n",
        "---\r\n",
        "\r\n",
        "\r\n"
      ]
    },
    {
      "cell_type": "code",
      "metadata": {
        "id": "ALTMKyga8N99"
      },
      "source": [
        "def duplicates(str1):\r\n",
        "  chs_found=[]\r\n",
        "  dups=[]\r\n",
        "  for s in str1:\r\n",
        "    if s not in chs_found:\r\n",
        "      chs_found.append(s)\r\n",
        "    else:\r\n",
        "      dups.append(s)\r\n",
        "  return(list(set(dups)))\r\n",
        "\r\n",
        "print(duplicates(\"machinelearning\"))"
      ],
      "execution_count": null,
      "outputs": []
    },
    {
      "cell_type": "markdown",
      "metadata": {
        "id": "jq6TLgjNPKVZ"
      },
      "source": [
        "#### Q12. Convert all the repeated characters in the previous string to uppercase\r\n"
      ]
    },
    {
      "cell_type": "code",
      "metadata": {
        "id": "URgVclv0PK0f"
      },
      "source": [
        "def uppercase(str1):\r\n",
        "  d1={}\r\n",
        "  for ch in str1:\r\n",
        "    if ch in d1.keys():\r\n",
        "      d1[ch]+=1\r\n",
        "    else:\r\n",
        "      d1[ch]=1\r\n",
        "  returnstr=''\r\n",
        "  for ch in str1:\r\n",
        "    if d1[ch]>1:\r\n",
        "      ch=ch.upper()\r\n",
        "    returnstr+=ch\r\n",
        "\r\n",
        "  return(returnstr)\r\n",
        "\r\n",
        "print(uppercase(\"machinelearning\"))"
      ],
      "execution_count": null,
      "outputs": []
    },
    {
      "cell_type": "markdown",
      "metadata": {
        "id": "bWaPzL-dQrB7"
      },
      "source": [
        "#### Q13. Write a program to generate Fibonacci series 0, 1, 1, 2, 3, 5, 8, 13, 21, 34, 55, 89, 144, .....\r\n"
      ]
    },
    {
      "cell_type": "code",
      "metadata": {
        "id": "Oqf2sOTZRYLp"
      },
      "source": [
        "#Iterative approach \r\n",
        "nItems=int(input(\"Enter how many numbers you want to generate: \"))\r\n",
        "f1=0\r\n",
        "f2=1\r\n",
        "counter=0\r\n",
        "if nItems<=0:\r\n",
        "  print(\"Provide input greater than 0\")\r\n",
        "elif nItems==1:\r\n",
        "  print(f1)\r\n",
        "else:\r\n",
        "  while counter<nItems:\r\n",
        "    print(f1)\r\n",
        "    #we need to keep updating the values as we move to future elements\r\n",
        "    fth = f1 + f2 \r\n",
        "    f1 = f2 \r\n",
        "    f2 = fth \r\n",
        "    counter += 1\r\n"
      ],
      "execution_count": null,
      "outputs": []
    }
  ]
}